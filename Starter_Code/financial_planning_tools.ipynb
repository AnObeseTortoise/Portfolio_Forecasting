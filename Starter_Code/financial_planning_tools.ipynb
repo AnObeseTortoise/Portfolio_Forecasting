{
 "cells": [
  {
   "cell_type": "markdown",
   "metadata": {},
   "source": [
    "# Financial Planning with APIs and Simulations\n",
    "\n",
    "In this Challenge, you’ll create two financial analysis tools by using a single Jupyter notebook:\n",
    "\n",
    "Part 1: A financial planner for emergencies. The members will be able to use this tool to visualize their current savings. The members can then determine if they have enough reserves for an emergency fund.\n",
    "\n",
    "Part 2: A financial planner for retirement. This tool will forecast the performance of their retirement portfolio in 30 years. To do this, the tool will make an Alpaca API call via the Alpaca SDK to get historical price data for use in Monte Carlo simulations.\n",
    "\n",
    "You’ll use the information from the Monte Carlo simulation to answer questions about the portfolio in your Jupyter notebook.\n",
    "\n"
   ]
  },
  {
   "cell_type": "code",
   "execution_count": 1,
   "metadata": {},
   "outputs": [],
   "source": [
    "# Import the required libraries and dependencies\n",
    "import os\n",
    "import requests\n",
    "import json\n",
    "import pandas as pd\n",
    "from dotenv import load_dotenv\n",
    "import alpaca_trade_api as tradeapi\n",
    "from MCForecastTools import MCSimulation\n",
    "\n",
    "%matplotlib inline"
   ]
  },
  {
   "cell_type": "code",
   "execution_count": 2,
   "metadata": {},
   "outputs": [
    {
     "data": {
      "text/plain": [
       "True"
      ]
     },
     "execution_count": 2,
     "metadata": {},
     "output_type": "execute_result"
    }
   ],
   "source": [
    "# Load the environment variables from the .env file\n",
    "#by calling the load_dotenv function\n",
    "load_dotenv()"
   ]
  },
  {
   "cell_type": "markdown",
   "metadata": {},
   "source": [
    "## Part 1: Create a Financial Planner for Emergencies"
   ]
  },
  {
   "cell_type": "markdown",
   "metadata": {},
   "source": [
    "### Evaluate the Cryptocurrency Wallet by Using the Requests Library\n",
    "\n",
    "In this section, you’ll determine the current value of a member’s cryptocurrency wallet. You’ll collect the current prices for the Bitcoin and Ethereum cryptocurrencies by using the Python Requests library. For the prototype, you’ll assume that the member holds the 1.2 Bitcoins (BTC) and 5.3 Ethereum coins (ETH). To do all this, complete the following steps:\n",
    "\n",
    "1. Create a variable named `monthly_income`, and set its value to `12000`.\n",
    "\n",
    "2. Use the Requests library to get the current price (in US dollars) of Bitcoin (BTC) and Ethereum (ETH) by using the API endpoints that the starter code supplies.\n",
    "\n",
    "3. Navigate the JSON response object to access the current price of each coin, and store each in a variable.\n",
    "\n",
    "    > **Hint** Note the specific identifier for each cryptocurrency in the API JSON response. The Bitcoin identifier is `1`, and the Ethereum identifier is `1027`.\n",
    "\n",
    "4. Calculate the value, in US dollars, of the current amount of each cryptocurrency and of the entire cryptocurrency wallet.\n",
    "\n"
   ]
  },
  {
   "cell_type": "code",
   "execution_count": 3,
   "metadata": {},
   "outputs": [],
   "source": [
    "# The current number of coins for each cryptocurrency asset held in the portfolio.\n",
    "btc_coins = 1.2\n",
    "eth_coins = 5.3"
   ]
  },
  {
   "cell_type": "markdown",
   "metadata": {},
   "source": [
    "#### Step 1: Create a variable named `monthly_income`, and set its value to `12000`."
   ]
  },
  {
   "cell_type": "code",
   "execution_count": 4,
   "metadata": {},
   "outputs": [],
   "source": [
    "# The monthly amount for the member's household income\n",
    "monthly_income = 12000\n"
   ]
  },
  {
   "cell_type": "markdown",
   "metadata": {},
   "source": [
    "#### Review the endpoint URLs for the API calls to Free Crypto API in order to get the current pricing information for both BTC and ETH."
   ]
  },
  {
   "cell_type": "code",
   "execution_count": 5,
   "metadata": {},
   "outputs": [],
   "source": [
    "# The Free Crypto API Call endpoint URLs for the held cryptocurrency assets\n",
    "btc_url = \"https://api.alternative.me/v2/ticker/Bitcoin/?convert=USD\"\n",
    "eth_url = \"https://api.alternative.me/v2/ticker/Ethereum/?convert=USD\""
   ]
  },
  {
   "cell_type": "markdown",
   "metadata": {},
   "source": [
    "#### Step 2. Use the Requests library to get the current price (in US dollars) of Bitcoin (BTC) and Ethereum (ETH) by using the API endpoints that the starter code supplied."
   ]
  },
  {
   "cell_type": "code",
   "execution_count": 6,
   "metadata": {},
   "outputs": [
    {
     "name": "stdout",
     "output_type": "stream",
     "text": [
      "{\n",
      "    \"data\": {\n",
      "        \"1\": {\n",
      "            \"circulating_supply\": 18859362,\n",
      "            \"id\": 1,\n",
      "            \"last_updated\": 1635642167,\n",
      "            \"max_supply\": 21000000,\n",
      "            \"name\": \"Bitcoin\",\n",
      "            \"quotes\": {\n",
      "                \"USD\": {\n",
      "                    \"market_cap\": 1175873896847,\n",
      "                    \"percent_change_1h\": 0.626134150421712,\n",
      "                    \"percent_change_24h\": 0.558892190111516,\n",
      "                    \"percent_change_7d\": 1.34733676546234,\n",
      "                    \"percentage_change_1h\": 0.626134150421712,\n",
      "                    \"percentage_change_24h\": 0.558892190111516,\n",
      "                    \"percentage_change_7d\": 1.34733676546234,\n",
      "                    \"price\": 62402.0,\n",
      "                    \"volume_24h\": 32561545387\n",
      "                }\n",
      "            },\n",
      "            \"rank\": 1,\n",
      "            \"symbol\": \"BTC\",\n",
      "            \"total_supply\": 18859362,\n",
      "            \"website_slug\": \"bitcoin\"\n",
      "        }\n",
      "    },\n",
      "    \"metadata\": {\n",
      "        \"error\": null,\n",
      "        \"num_cryptocurrencies\": 3105,\n",
      "        \"timestamp\": 1635642167\n",
      "    }\n",
      "}\n"
     ]
    }
   ],
   "source": [
    "# Using the Python requests library, make an API call to access the current price of BTC\n",
    "btc_response = requests.get(btc_url).json()\n",
    "\n",
    "# Use the json.dumps function to review the response data from the API call\n",
    "# Use the indent and sort_keys parameters to make the response object readable\n",
    "print(json.dumps(btc_response, indent = 4, sort_keys=True))\n"
   ]
  },
  {
   "cell_type": "code",
   "execution_count": 7,
   "metadata": {},
   "outputs": [
    {
     "name": "stdout",
     "output_type": "stream",
     "text": [
      "{\n",
      "    \"data\": {\n",
      "        \"1027\": {\n",
      "            \"circulating_supply\": 118144582,\n",
      "            \"id\": 1027,\n",
      "            \"last_updated\": 1635642220,\n",
      "            \"max_supply\": 0,\n",
      "            \"name\": \"Ethereum\",\n",
      "            \"quotes\": {\n",
      "                \"USD\": {\n",
      "                    \"market_cap\": 518044429452,\n",
      "                    \"percent_change_1h\": 1.032224450165,\n",
      "                    \"percent_change_24h\": 0.204097594571933,\n",
      "                    \"percent_change_7d\": 5.02541242930368,\n",
      "                    \"percentage_change_1h\": 1.032224450165,\n",
      "                    \"percentage_change_24h\": 0.204097594571933,\n",
      "                    \"percentage_change_7d\": 5.02541242930368,\n",
      "                    \"price\": 4389.48,\n",
      "                    \"volume_24h\": 16651175708\n",
      "                }\n",
      "            },\n",
      "            \"rank\": 2,\n",
      "            \"symbol\": \"ETH\",\n",
      "            \"total_supply\": 118144582,\n",
      "            \"website_slug\": \"ethereum\"\n",
      "        }\n",
      "    },\n",
      "    \"metadata\": {\n",
      "        \"error\": null,\n",
      "        \"num_cryptocurrencies\": 3105,\n",
      "        \"timestamp\": 1635642220\n",
      "    }\n",
      "}\n"
     ]
    }
   ],
   "source": [
    "# Using the Python requests library, make an API call to access the current price ETH\n",
    "eth_response = requests.get(eth_url).json()\n",
    "\n",
    "# Use the json.dumps function to review the response data from the API call\n",
    "# Use the indent and sort_keys parameters to make the response object readable\n",
    "print(json.dumps(eth_response, indent=4, sort_keys=True))\n"
   ]
  },
  {
   "cell_type": "markdown",
   "metadata": {},
   "source": [
    "#### Step 3: Navigate the JSON response object to access the current price of each coin, and store each in a variable."
   ]
  },
  {
   "cell_type": "code",
   "execution_count": 8,
   "metadata": {},
   "outputs": [
    {
     "name": "stdout",
     "output_type": "stream",
     "text": [
      "The price of Bitcoin is $ 62402.00\n"
     ]
    }
   ],
   "source": [
    "# Navigate the BTC response object to access the current price of BTC\n",
    "btc_price =btc_response['data']['1']['quotes']['USD']['price']\n",
    "\n",
    "# Print the current price of BTC\n",
    "print(f'The price of Bitcoin is ${btc_price: .2f}')\n"
   ]
  },
  {
   "cell_type": "code",
   "execution_count": 202,
   "metadata": {},
   "outputs": [
    {
     "name": "stdout",
     "output_type": "stream",
     "text": [
      "The price of Ethereum is $ 4389.48\n"
     ]
    },
    {
     "ename": "AttributeError",
     "evalue": "'float' object has no attribute 'dtypes'",
     "output_type": "error",
     "traceback": [
      "\u001b[1;31m---------------------------------------------------------------------------\u001b[0m",
      "\u001b[1;31mAttributeError\u001b[0m                            Traceback (most recent call last)",
      "\u001b[1;32m~\\AppData\\Local\\Temp/ipykernel_2084/3694905968.py\u001b[0m in \u001b[0;36m<module>\u001b[1;34m\u001b[0m\n\u001b[0;32m      4\u001b[0m \u001b[1;31m# Print the current price of ETH\u001b[0m\u001b[1;33m\u001b[0m\u001b[1;33m\u001b[0m\u001b[1;33m\u001b[0m\u001b[0m\n\u001b[0;32m      5\u001b[0m \u001b[0mprint\u001b[0m\u001b[1;33m(\u001b[0m\u001b[1;34mf'The price of Ethereum is ${eth_price: .2f}'\u001b[0m\u001b[1;33m)\u001b[0m\u001b[1;33m\u001b[0m\u001b[1;33m\u001b[0m\u001b[0m\n\u001b[1;32m----> 6\u001b[1;33m \u001b[0mdisplay\u001b[0m\u001b[1;33m(\u001b[0m\u001b[0meth_price\u001b[0m\u001b[1;33m.\u001b[0m\u001b[0mdtypes\u001b[0m\u001b[1;33m)\u001b[0m\u001b[1;33m\u001b[0m\u001b[1;33m\u001b[0m\u001b[0m\n\u001b[0m",
      "\u001b[1;31mAttributeError\u001b[0m: 'float' object has no attribute 'dtypes'"
     ]
    }
   ],
   "source": [
    "# Navigate the BTC response object to access the current price of ETH\n",
    "eth_price = eth_response['data']['1027']['quotes']['USD']['price']\n",
    "\n",
    "# Print the current price of ETH\n",
    "print(f'The price of Ethereum is ${eth_price: .2f}')\n"
   ]
  },
  {
   "cell_type": "markdown",
   "metadata": {},
   "source": [
    "### Step 4: Calculate the value, in US dollars, of the current amount of each cryptocurrency and of the entire cryptocurrency wallet."
   ]
  },
  {
   "cell_type": "code",
   "execution_count": 10,
   "metadata": {},
   "outputs": [
    {
     "name": "stdout",
     "output_type": "stream",
     "text": [
      "The current value of your Bitcoin holdings is $ 74882.40\n"
     ]
    }
   ],
   "source": [
    "# Compute the current value of the BTC holding \n",
    "btc_value = btc_price*1.2\n",
    "\n",
    "# Print current value of your holding in BTC\n",
    "print(f'The current value of your Bitcoin holdings is ${btc_value: .2f}')\n"
   ]
  },
  {
   "cell_type": "code",
   "execution_count": 11,
   "metadata": {},
   "outputs": [
    {
     "name": "stdout",
     "output_type": "stream",
     "text": [
      "The current value of your Ethereum holdings is $ 23264.24\n"
     ]
    }
   ],
   "source": [
    "# Compute the current value of the ETH holding \n",
    "eth_value =eth_price*5.3 \n",
    "\n",
    "# Print current value of your holding in ETH\n",
    "print(f'The current value of your Ethereum holdings is ${eth_value: .2f}')\n"
   ]
  },
  {
   "cell_type": "code",
   "execution_count": 12,
   "metadata": {},
   "outputs": [
    {
     "name": "stdout",
     "output_type": "stream",
     "text": [
      "The current value of your Crypto Wallet is $ 98146.64\n"
     ]
    }
   ],
   "source": [
    "# Compute the total value of the cryptocurrency wallet\n",
    "# Add the value of the BTC holding to the value of the ETH holding\n",
    "total_crypto_wallet = eth_value+btc_value\n",
    "\n",
    "# Print current cryptocurrency wallet balance\n",
    "print(f'The current value of your Crypto Wallet is ${total_crypto_wallet: .2f}')\n"
   ]
  },
  {
   "cell_type": "markdown",
   "metadata": {},
   "source": [
    "### Evaluate the Stock and Bond Holdings by Using the Alpaca SDK\n",
    "\n",
    "In this section, you’ll determine the current value of a member’s stock and bond holdings. You’ll make an API call to Alpaca via the Alpaca SDK to get the current closing prices of the SPDR S&P 500 ETF Trust (ticker: SPY) and of the iShares Core US Aggregate Bond ETF (ticker: AGG). For the prototype, assume that the member holds 110 shares of SPY, which represents the stock portion of their portfolio, and 200 shares of AGG, which represents the bond portion. To do all this, complete the following steps:\n",
    "\n",
    "1. In the `Starter_Code` folder, create an environment file (`.env`) to store the values of your Alpaca API key and Alpaca secret key.\n",
    "\n",
    "2. Set the variables for the Alpaca API and secret keys. Using the Alpaca SDK, create the Alpaca `tradeapi.REST` object. In this object, include the parameters for the Alpaca API key, the secret key, and the version number.\n",
    "\n",
    "3. Set the following parameters for the Alpaca API call:\n",
    "\n",
    "    - `tickers`: Use the tickers for the member’s stock and bond holdings.\n",
    "\n",
    "    - `timeframe`: Use a time frame of one day.\n",
    "\n",
    "    - `start_date` and `end_date`: Use the same date for these parameters, and format them with the date of the previous weekday (or `2020-08-07`). This is because you want the one closing price for the most-recent trading day.\n",
    "\n",
    "4. Get the current closing prices for `SPY` and `AGG` by using the Alpaca `get_barset` function. Format the response as a Pandas DataFrame by including the `df` property at the end of the `get_barset` function.\n",
    "\n",
    "5. Navigating the Alpaca response DataFrame, select the `SPY` and `AGG` closing prices, and store them as variables.\n",
    "\n",
    "6. Calculate the value, in US dollars, of the current amount of shares in each of the stock and bond portions of the portfolio, and print the results.\n"
   ]
  },
  {
   "cell_type": "markdown",
   "metadata": {},
   "source": [
    "#### Review the total number of shares held in both (SPY) and (AGG)."
   ]
  },
  {
   "cell_type": "code",
   "execution_count": 13,
   "metadata": {},
   "outputs": [],
   "source": [
    "# Current amount of shares held in both the stock (SPY) and bond (AGG) portion of the portfolio.\n",
    "spy_shares = 110\n",
    "agg_shares = 200\n"
   ]
  },
  {
   "cell_type": "markdown",
   "metadata": {},
   "source": [
    "#### Step 1: In the `Starter_Code` folder, create an environment file (`.env`) to store the values of your Alpaca API key and Alpaca secret key."
   ]
  },
  {
   "cell_type": "markdown",
   "metadata": {},
   "source": [
    "#### Step 2: Set the variables for the Alpaca API and secret keys. Using the Alpaca SDK, create the Alpaca `tradeapi.REST` object. In this object, include the parameters for the Alpaca API key, the secret key, and the version number."
   ]
  },
  {
   "cell_type": "code",
   "execution_count": 15,
   "metadata": {},
   "outputs": [
    {
     "data": {
      "text/plain": [
       "'PKYL8TGMP4DGSHU1LU5P'"
      ]
     },
     "metadata": {},
     "output_type": "display_data"
    },
    {
     "data": {
      "text/plain": [
       "'9uMlhumPrbIqvnAtXERyibehsmknxx8nAEBLbltw'"
      ]
     },
     "metadata": {},
     "output_type": "display_data"
    }
   ],
   "source": [
    "# Set the variables for the Alpaca API and secret keys\n",
    "alpaca_api = os.getenv(\"ALPACA_API_KEY\")\n",
    "alpaca_secret = os.getenv(\"ALPACA_SECRET_KEY\")\n",
    "\n",
    "# Create the Alpaca tradeapi.REST object\n",
    "alpaca = tradeapi.REST(\n",
    "    alpaca_api,\n",
    "    alpaca_secret,\n",
    "    api_version=\"v2\")\n",
    "\n"
   ]
  },
  {
   "cell_type": "markdown",
   "metadata": {},
   "source": [
    "#### Step 3: Set the following parameters for the Alpaca API call:\n",
    "\n",
    "- `tickers`: Use the tickers for the member’s stock and bond holdings.\n",
    "\n",
    "- `timeframe`: Use a time frame of one day.\n",
    "\n",
    "- `start_date` and `end_date`: Use the same date for these parameters, and format them with the date of the previous weekday (or `2020-08-07`). This is because you want the one closing price for the most-recent trading day.\n"
   ]
  },
  {
   "cell_type": "code",
   "execution_count": 18,
   "metadata": {},
   "outputs": [],
   "source": [
    "# Set the tickers for both the bond and stock portion of the portfolio\n",
    "tickers = ['SPY','AGG']\n",
    "\n",
    "# Set timeframe to 1D \n",
    "timeframe = '1D'\n",
    "\n",
    "# Format current date as ISO format\n",
    "# Set both the start and end date at the date of your prior weekday \n",
    "# This will give you the closing price of the previous trading day\n",
    "# Alternatively you can use a start and end date of 2020-08-07\n",
    "start_date = pd.Timestamp('2021-10-29', tz='America/New_York').isoformat()\n",
    "end_date=pd.Timestamp('2021-10-29', tz='America/New_York').isoformat()\n"
   ]
  },
  {
   "cell_type": "markdown",
   "metadata": {},
   "source": [
    "#### Step 4: Get the current closing prices for `SPY` and `AGG` by using the Alpaca `get_barset` function. Format the response as a Pandas DataFrame by including the `df` property at the end of the `get_barset` function."
   ]
  },
  {
   "cell_type": "code",
   "execution_count": 110,
   "metadata": {},
   "outputs": [
    {
     "data": {
      "text/html": [
       "<div>\n",
       "<style scoped>\n",
       "    .dataframe tbody tr th:only-of-type {\n",
       "        vertical-align: middle;\n",
       "    }\n",
       "\n",
       "    .dataframe tbody tr th {\n",
       "        vertical-align: top;\n",
       "    }\n",
       "\n",
       "    .dataframe thead tr th {\n",
       "        text-align: left;\n",
       "    }\n",
       "\n",
       "    .dataframe thead tr:last-of-type th {\n",
       "        text-align: right;\n",
       "    }\n",
       "</style>\n",
       "<table border=\"1\" class=\"dataframe\">\n",
       "  <thead>\n",
       "    <tr>\n",
       "      <th></th>\n",
       "      <th colspan=\"5\" halign=\"left\">AGG</th>\n",
       "      <th colspan=\"5\" halign=\"left\">SPY</th>\n",
       "    </tr>\n",
       "    <tr>\n",
       "      <th></th>\n",
       "      <th>open</th>\n",
       "      <th>high</th>\n",
       "      <th>low</th>\n",
       "      <th>close</th>\n",
       "      <th>volume</th>\n",
       "      <th>open</th>\n",
       "      <th>high</th>\n",
       "      <th>low</th>\n",
       "      <th>close</th>\n",
       "      <th>volume</th>\n",
       "    </tr>\n",
       "    <tr>\n",
       "      <th>time</th>\n",
       "      <th></th>\n",
       "      <th></th>\n",
       "      <th></th>\n",
       "      <th></th>\n",
       "      <th></th>\n",
       "      <th></th>\n",
       "      <th></th>\n",
       "      <th></th>\n",
       "      <th></th>\n",
       "      <th></th>\n",
       "    </tr>\n",
       "  </thead>\n",
       "  <tbody>\n",
       "    <tr>\n",
       "      <th>2021-10-29 00:00:00-04:00</th>\n",
       "      <td>114.35</td>\n",
       "      <td>114.78</td>\n",
       "      <td>114.35</td>\n",
       "      <td>114.62</td>\n",
       "      <td>7051614</td>\n",
       "      <td>455.87</td>\n",
       "      <td>459.56</td>\n",
       "      <td>455.56</td>\n",
       "      <td>459.22</td>\n",
       "      <td>58813207</td>\n",
       "    </tr>\n",
       "  </tbody>\n",
       "</table>\n",
       "</div>"
      ],
      "text/plain": [
       "                              AGG                                      SPY  \\\n",
       "                             open    high     low   close   volume    open   \n",
       "time                                                                         \n",
       "2021-10-29 00:00:00-04:00  114.35  114.78  114.35  114.62  7051614  455.87   \n",
       "\n",
       "                                                             \n",
       "                             high     low   close    volume  \n",
       "time                                                         \n",
       "2021-10-29 00:00:00-04:00  459.56  455.56  459.22  58813207  "
      ]
     },
     "metadata": {},
     "output_type": "display_data"
    }
   ],
   "source": [
    "# Use the Alpaca get_barset function to get current closing prices the portfolio\n",
    "# Be sure to set the `df` property after the function to format the response object as a DataFrame\n",
    "portfolio_df = alpaca.get_barset(\n",
    "    tickers,\n",
    "    timeframe,\n",
    "    start=start_date,\n",
    "    end= end_date).df\n",
    "\n",
    "# Review the first 5 rows of the Alpaca DataFrame\n",
    "display(portfolio_df.head())\n"
   ]
  },
  {
   "cell_type": "markdown",
   "metadata": {},
   "source": [
    "#### Step 5: Navigating the Alpaca response DataFrame, select the `SPY` and `AGG` closing prices, and store them as variables."
   ]
  },
  {
   "cell_type": "code",
   "execution_count": 194,
   "metadata": {},
   "outputs": [
    {
     "name": "stdout",
     "output_type": "stream",
     "text": [
      "2021-10-29    114.62\n",
      "Name: close, dtype: float64\n"
     ]
    }
   ],
   "source": [
    "# Access the closing price for AGG from the Alpaca DataFrame\n",
    "# Converting the value to a floating point number\n",
    "\n",
    "\n",
    "agg_close_price = portfolio_df['AGG']['close']\n",
    "agg_close_price.index=agg_close_price.index.date\n",
    "# Print the AGG closing price\n",
    "print(agg_close_price)\n"
   ]
  },
  {
   "cell_type": "code",
   "execution_count": 193,
   "metadata": {},
   "outputs": [
    {
     "data": {
      "text/plain": [
       "2021-10-29    459.22\n",
       "Name: close, dtype: float64"
      ]
     },
     "metadata": {},
     "output_type": "display_data"
    }
   ],
   "source": [
    "# Access the closing price for SPY from the Alpaca DataFrame\n",
    "# Converting the value to a floating point number\n",
    "\n",
    "spy_close_price= portfolio_df['SPY']['close']\n",
    "spy_close_price.index = spy_close_price.index.date\n",
    "\n",
    "# Print the SPY closing price\n",
    "display(spy_close_price)\n"
   ]
  },
  {
   "cell_type": "markdown",
   "metadata": {},
   "source": [
    "\n",
    "#### Step 6: Calculate the value, in US dollars, of the current amount of shares in each of the stock and bond portions of the portfolio, and print the results."
   ]
  },
  {
   "cell_type": "code",
   "execution_count": 195,
   "metadata": {},
   "outputs": [
    {
     "name": "stdout",
     "output_type": "stream",
     "text": [
      "2021-10-29    22924.0\n",
      "Name: close, dtype: float64\n"
     ]
    }
   ],
   "source": [
    "# Calculate the current value of the bond portion of the portfolio\n",
    "agg_value = agg_close_price*agg_shares\n",
    "# Print the current value of the bond portfolio\n",
    "print(agg_value)\n"
   ]
  },
  {
   "cell_type": "code",
   "execution_count": 196,
   "metadata": {},
   "outputs": [
    {
     "name": "stdout",
     "output_type": "stream",
     "text": [
      "2021-10-29    50514.2\n",
      "Name: close, dtype: float64\n"
     ]
    }
   ],
   "source": [
    "# Calculate the current value of the stock portion of the portfolio\n",
    "spy_value = spy_close_price*spy_shares\n",
    "\n",
    "# Print the current value of the stock portfolio\n",
    "print(spy_value)\n"
   ]
  },
  {
   "cell_type": "code",
   "execution_count": 316,
   "metadata": {},
   "outputs": [
    {
     "name": "stdout",
     "output_type": "stream",
     "text": [
      "The current value of your stocks and bond portfolio is $ 73438.20 \n"
     ]
    }
   ],
   "source": [
    "# Calculate the total value of the stock and bond portion of the portfolio\n",
    "total_stocks_bonds = agg_value+spy_value\n",
    "\n",
    "# Print the current balance of the stock and bond portion of the portfolio\n",
    "print(f'The current value of your stocks and bond portfolio is ${total_stocks_bonds[0]: .2f} ')\n",
    "\n"
   ]
  },
  {
   "cell_type": "code",
   "execution_count": 230,
   "metadata": {},
   "outputs": [
    {
     "name": "stdout",
     "output_type": "stream",
     "text": [
      "171584.84399999998\n"
     ]
    }
   ],
   "source": [
    "# Calculate the total value of the member's entire savings portfolio\n",
    "# Add the value of the cryptocurrency walled to the value of the total stocks and bonds\n",
    "total_portfolio = total_crypto_wallet + total_stocks_bonds[0]\n",
    "\n",
    "# Print current cryptocurrency wallet balance\n",
    "print(total_portfolio)\n"
   ]
  },
  {
   "cell_type": "markdown",
   "metadata": {},
   "source": [
    "### Evaluate the Emergency Fund\n",
    "\n",
    "In this section, you’ll use the valuations for the cryptocurrency wallet and for the stock and bond portions of the portfolio to determine if the credit union member has enough savings to build an emergency fund into their financial plan. To do this, complete the following steps:\n",
    "\n",
    "1. Create a Python list named `savings_data` that has two elements. The first element contains the total value of the cryptocurrency wallet. The second element contains the total value of the stock and bond portions of the portfolio.\n",
    "\n",
    "2. Use the `savings_data` list to create a Pandas DataFrame named `savings_df`, and then display this DataFrame. The function to create the DataFrame should take the following three parameters:\n",
    "\n",
    "    - `savings_data`: Use the list that you just created.\n",
    "\n",
    "    - `columns`: Set this parameter equal to a Python list with a single value called `amount`.\n",
    "\n",
    "    - `index`: Set this parameter equal to a Python list with the values of `crypto` and `stock/bond`.\n",
    "\n",
    "3. Use the `savings_df` DataFrame to plot a pie chart that visualizes the composition of the member’s portfolio. The y-axis of the pie chart uses `amount`. Be sure to add a title.\n",
    "\n",
    "4. Using Python, determine if the current portfolio has enough to create an emergency fund as part of the member’s financial plan. Ideally, an emergency fund should equal to three times the member’s monthly income. To do this, implement the following steps:\n",
    "\n",
    "    1. Create a variable named `emergency_fund_value`, and set it equal to three times the value of the member’s `monthly_income` of $12000. (You set this earlier in Part 1).\n",
    "\n",
    "    2. Create a series of three if statements to determine if the member’s total portfolio is large enough to fund the emergency portfolio:\n",
    "\n",
    "        1. If the total portfolio value is greater than the emergency fund value, display a message congratulating the member for having enough money in this fund.\n",
    "\n",
    "        2. Else if the total portfolio value is equal to the emergency fund value, display a message congratulating the member on reaching this important financial goal.\n",
    "\n",
    "        3. Else the total portfolio is less than the emergency fund value, so display a message showing how many dollars away the member is from reaching the goal. (Subtract the total portfolio value from the emergency fund value.)\n"
   ]
  },
  {
   "cell_type": "markdown",
   "metadata": {},
   "source": [
    "#### Step 1: Create a Python list named `savings_data` that has two elements. The first element contains the total value of the cryptocurrency wallet. The second element contains the total value of the stock and bond portions of the portfolio."
   ]
  },
  {
   "cell_type": "code",
   "execution_count": 242,
   "metadata": {},
   "outputs": [
    {
     "data": {
      "text/plain": [
       "[98146.64399999999, 73438.20000000001]"
      ]
     },
     "metadata": {},
     "output_type": "display_data"
    }
   ],
   "source": [
    "# Consolidate financial assets data into a Python list\n",
    "\n",
    "savings_data = [total_crypto_wallet, total_stocks_bonds[0]]\n",
    "\n",
    "# Review the Python list savings_data\n",
    "display(savings_data)\n",
    "    "
   ]
  },
  {
   "cell_type": "markdown",
   "metadata": {},
   "source": [
    "#### Step 2: Use the `savings_data` list to create a Pandas DataFrame named `savings_df`, and then display this DataFrame. The function to create the DataFrame should take the following three parameters:\n",
    "\n",
    "- `savings_data`: Use the list that you just created.\n",
    "\n",
    "- `columns`: Set this parameter equal to a Python list with a single value called `amount`.\n",
    "\n",
    "- `index`: Set this parameter equal to a Python list with the values of `crypto` and `stock/bond`.\n"
   ]
  },
  {
   "cell_type": "code",
   "execution_count": 250,
   "metadata": {},
   "outputs": [
    {
     "data": {
      "text/html": [
       "<div>\n",
       "<style scoped>\n",
       "    .dataframe tbody tr th:only-of-type {\n",
       "        vertical-align: middle;\n",
       "    }\n",
       "\n",
       "    .dataframe tbody tr th {\n",
       "        vertical-align: top;\n",
       "    }\n",
       "\n",
       "    .dataframe thead th {\n",
       "        text-align: right;\n",
       "    }\n",
       "</style>\n",
       "<table border=\"1\" class=\"dataframe\">\n",
       "  <thead>\n",
       "    <tr style=\"text-align: right;\">\n",
       "      <th></th>\n",
       "      <th>Amount</th>\n",
       "    </tr>\n",
       "  </thead>\n",
       "  <tbody>\n",
       "    <tr>\n",
       "      <th>Crypto</th>\n",
       "      <td>98146.644</td>\n",
       "    </tr>\n",
       "    <tr>\n",
       "      <th>Stock/Bond</th>\n",
       "      <td>73438.200</td>\n",
       "    </tr>\n",
       "  </tbody>\n",
       "</table>\n",
       "</div>"
      ],
      "text/plain": [
       "               Amount\n",
       "Crypto      98146.644\n",
       "Stock/Bond  73438.200"
      ]
     },
     "metadata": {},
     "output_type": "display_data"
    }
   ],
   "source": [
    "# Create a Pandas DataFrame called savings_df \n",
    "\n",
    "savings_df = pd.DataFrame(\n",
    "    savings_data,\n",
    "    columns= ['Amount'],\n",
    "    index=['Crypto', 'Stock/Bond'])\n",
    "\n",
    "# Display the savings_df DataFrame\n",
    "display(savings_df)\n"
   ]
  },
  {
   "cell_type": "markdown",
   "metadata": {},
   "source": [
    "#### Step 3: Use the `savings_df` DataFrame to plot a pie chart that visualizes the composition of the member’s portfolio. The y-axis of the pie chart uses `amount`. Be sure to add a title."
   ]
  },
  {
   "cell_type": "code",
   "execution_count": 251,
   "metadata": {},
   "outputs": [
    {
     "data": {
      "text/plain": [
       "<AxesSubplot:title={'center':'Portfolio Diversification Amount'}, ylabel='Amount'>"
      ]
     },
     "execution_count": 251,
     "metadata": {},
     "output_type": "execute_result"
    },
    {
     "data": {
      "image/png": "[encoded data removed]",
      "text/plain": [
       "<Figure size 1080x504 with 1 Axes>"
      ]
     },
     "metadata": {},
     "output_type": "display_data"
    }
   ],
   "source": [
    "# Plot the total value of the member's portfolio (crypto and stock/bond) in a pie chart\n",
    "savings_df.plot.pie(y='Amount', figsize=(15,7), title ='Portfolio Diversification Amount')\n"
   ]
  },
  {
   "cell_type": "markdown",
   "metadata": {},
   "source": [
    "#### Step 4: Using Python, determine if the current portfolio has enough to create an emergency fund as part of the member’s financial plan. Ideally, an emergency fund should equal to three times the member’s monthly income. To do this, implement the following steps:\n",
    "\n",
    "Step 1. Create a variable named `emergency_fund_value`, and set it equal to three times the value of the member’s `monthly_income` of 12000. (You set this earlier in Part 1).\n",
    "\n",
    "Step 2. Create a series of three if statements to determine if the member’s total portfolio is large enough to fund the emergency portfolio:\n",
    "\n",
    "* If the total portfolio value is greater than the emergency fund value, display a message congratulating the member for having enough money in this fund.\n",
    "\n",
    "* Else if the total portfolio value is equal to the emergency fund value, display a message congratulating the member on reaching this important financial goal.\n",
    "\n",
    "* Else the total portfolio is less than the emergency fund value, so display a message showing how many dollars away the member is from reaching the goal. (Subtract the total portfolio value from the emergency fund value.)\n"
   ]
  },
  {
   "cell_type": "markdown",
   "metadata": {},
   "source": [
    "##### Step 4-1: Create a variable named `emergency_fund_value`, and set it equal to three times the value of the member’s `monthly_income` of 12000. (You set this earlier in Part 1)."
   ]
  },
  {
   "cell_type": "code",
   "execution_count": 252,
   "metadata": {},
   "outputs": [],
   "source": [
    "# Create a variable named emergency_fund_value\n",
    "emergency_fund_value = monthly_income *3\n"
   ]
  },
  {
   "cell_type": "markdown",
   "metadata": {},
   "source": [
    "##### Step 4-2: Create a series of three if statements to determine if the member’s total portfolio is large enough to fund the emergency portfolio:\n",
    "\n",
    "* If the total portfolio value is greater than the emergency fund value, display a message congratulating the member for having enough money in this fund.\n",
    "\n",
    "* Else if the total portfolio value is equal to the emergency fund value, display a message congratulating the member on reaching this important financial goal.\n",
    "\n",
    "* Else the total portfolio is less than the emergency fund value, so display a message showing how many dollars away the member is from reaching the goal. (Subtract the total portfolio value from the emergency fund value.)"
   ]
  },
  {
   "cell_type": "code",
   "execution_count": 253,
   "metadata": {},
   "outputs": [
    {
     "name": "stdout",
     "output_type": "stream",
     "text": [
      "Congrats! You have enough money for this fund!\n"
     ]
    }
   ],
   "source": [
    "# Evaluate the possibility of creating an emergency fund with 3 conditions:\n",
    "if total_portfolio > emergency_fund_value:\n",
    "    print(\"Congrats! You have enough money for this fund!\")\n",
    "          \n",
    "elif total_portfolio == emergency_fund_value:\n",
    "          print(\"Congrats! You've hit an important financial milestone!\")\n",
    "          \n",
    "else:\n",
    "    print(f'You are almost there! You have ${emergency_fund_value - total_portfolio} until you reach your milestone!') \n",
    "          \n",
    "        \n",
    "\n"
   ]
  },
  {
   "cell_type": "markdown",
   "metadata": {},
   "source": [
    "## Part 2: Create a Financial Planner for Retirement"
   ]
  },
  {
   "cell_type": "markdown",
   "metadata": {},
   "source": [
    "### Create the Monte Carlo Simulation\n",
    "\n",
    "In this section, you’ll use the MCForecastTools library to create a Monte Carlo simulation for the member’s savings portfolio. To do this, complete the following steps:\n",
    "\n",
    "1. Make an API call via the Alpaca SDK to get 3 years of historical closing prices for a traditional 60/40 portfolio split: 60% stocks (SPY) and 40% bonds (AGG).\n",
    "\n",
    "2. Run a Monte Carlo simulation of 500 samples and 30 years for the 60/40 portfolio, and then plot the results.The following image shows the overlay line plot resulting from a simulation with these characteristics. However, because a random number generator is used to run each live Monte Carlo simulation, your image will differ slightly from this exact image:\n",
    "\n",
    "![A screenshot depicts the resulting plot.](Images/5-4-monte-carlo-line-plot.png)\n",
    "\n",
    "3. Plot the probability distribution of the Monte Carlo simulation. Plot the probability distribution of the Monte Carlo simulation. The following image shows the histogram plot resulting from a simulation with these characteristics. However, because a random number generator is used to run each live Monte Carlo simulation, your image will differ slightly from this exact image:\n",
    "\n",
    "![A screenshot depicts the histogram plot.](Images/5-4-monte-carlo-histogram.png)\n",
    "\n",
    "4. Generate the summary statistics for the Monte Carlo simulation.\n",
    "\n"
   ]
  },
  {
   "cell_type": "markdown",
   "metadata": {},
   "source": [
    "#### Step 1: Make an API call via the Alpaca SDK to get 3 years of historical closing prices for a traditional 60/40 portfolio split: 60% stocks (SPY) and 40% bonds (AGG)."
   ]
  },
  {
   "cell_type": "code",
   "execution_count": 273,
   "metadata": {},
   "outputs": [],
   "source": [
    "# Set start and end dates of 3 years back from your current date\n",
    "# Alternatively, you can use an end date of 2020-08-07 and work 3 years back from that date \n",
    "start_date_mc = pd.Timestamp('2018-10-29', tz='America/New_York').isoformat()\n",
    "end_date_mc = pd.Timestamp('2021-10-29', tz='America/New_York').isoformat()\n",
    "\n",
    "# Set number of rows to 1000 to retrieve the maximum amount of rows\n",
    "limit_rows = 1000"
   ]
  },
  {
   "cell_type": "code",
   "execution_count": 274,
   "metadata": {},
   "outputs": [
    {
     "data": {
      "text/html": [
       "<div>\n",
       "<style scoped>\n",
       "    .dataframe tbody tr th:only-of-type {\n",
       "        vertical-align: middle;\n",
       "    }\n",
       "\n",
       "    .dataframe tbody tr th {\n",
       "        vertical-align: top;\n",
       "    }\n",
       "\n",
       "    .dataframe thead tr th {\n",
       "        text-align: left;\n",
       "    }\n",
       "\n",
       "    .dataframe thead tr:last-of-type th {\n",
       "        text-align: right;\n",
       "    }\n",
       "</style>\n",
       "<table border=\"1\" class=\"dataframe\">\n",
       "  <thead>\n",
       "    <tr>\n",
       "      <th></th>\n",
       "      <th colspan=\"5\" halign=\"left\">AGG</th>\n",
       "      <th colspan=\"5\" halign=\"left\">SPY</th>\n",
       "    </tr>\n",
       "    <tr>\n",
       "      <th></th>\n",
       "      <th>open</th>\n",
       "      <th>high</th>\n",
       "      <th>low</th>\n",
       "      <th>close</th>\n",
       "      <th>volume</th>\n",
       "      <th>open</th>\n",
       "      <th>high</th>\n",
       "      <th>low</th>\n",
       "      <th>close</th>\n",
       "      <th>volume</th>\n",
       "    </tr>\n",
       "    <tr>\n",
       "      <th>time</th>\n",
       "      <th></th>\n",
       "      <th></th>\n",
       "      <th></th>\n",
       "      <th></th>\n",
       "      <th></th>\n",
       "      <th></th>\n",
       "      <th></th>\n",
       "      <th></th>\n",
       "      <th></th>\n",
       "      <th></th>\n",
       "    </tr>\n",
       "  </thead>\n",
       "  <tbody>\n",
       "    <tr>\n",
       "      <th>2018-10-29 00:00:00-04:00</th>\n",
       "      <td>104.86</td>\n",
       "      <td>104.89</td>\n",
       "      <td>104.72</td>\n",
       "      <td>104.79</td>\n",
       "      <td>3599179</td>\n",
       "      <td>268.78</td>\n",
       "      <td>270.25</td>\n",
       "      <td>259.85</td>\n",
       "      <td>263.80</td>\n",
       "      <td>120705901</td>\n",
       "    </tr>\n",
       "    <tr>\n",
       "      <th>2018-10-30 00:00:00-04:00</th>\n",
       "      <td>104.68</td>\n",
       "      <td>104.78</td>\n",
       "      <td>104.64</td>\n",
       "      <td>104.65</td>\n",
       "      <td>2246561</td>\n",
       "      <td>263.67</td>\n",
       "      <td>268.12</td>\n",
       "      <td>263.12</td>\n",
       "      <td>267.81</td>\n",
       "      <td>122643325</td>\n",
       "    </tr>\n",
       "    <tr>\n",
       "      <th>2018-10-31 00:00:00-04:00</th>\n",
       "      <td>104.50</td>\n",
       "      <td>104.70</td>\n",
       "      <td>104.50</td>\n",
       "      <td>104.58</td>\n",
       "      <td>11670445</td>\n",
       "      <td>270.65</td>\n",
       "      <td>273.23</td>\n",
       "      <td>270.12</td>\n",
       "      <td>270.69</td>\n",
       "      <td>97427146</td>\n",
       "    </tr>\n",
       "    <tr>\n",
       "      <th>2018-11-01 00:00:00-04:00</th>\n",
       "      <td>104.22</td>\n",
       "      <td>104.41</td>\n",
       "      <td>104.21</td>\n",
       "      <td>104.35</td>\n",
       "      <td>6974347</td>\n",
       "      <td>271.62</td>\n",
       "      <td>273.73</td>\n",
       "      <td>270.38</td>\n",
       "      <td>273.51</td>\n",
       "      <td>72100016</td>\n",
       "    </tr>\n",
       "    <tr>\n",
       "      <th>2018-11-02 00:00:00-04:00</th>\n",
       "      <td>104.25</td>\n",
       "      <td>104.29</td>\n",
       "      <td>103.94</td>\n",
       "      <td>104.01</td>\n",
       "      <td>4207916</td>\n",
       "      <td>274.74</td>\n",
       "      <td>275.23</td>\n",
       "      <td>269.59</td>\n",
       "      <td>271.80</td>\n",
       "      <td>93545041</td>\n",
       "    </tr>\n",
       "  </tbody>\n",
       "</table>\n",
       "</div>"
      ],
      "text/plain": [
       "                              AGG                                       SPY  \\\n",
       "                             open    high     low   close    volume    open   \n",
       "time                                                                          \n",
       "2018-10-29 00:00:00-04:00  104.86  104.89  104.72  104.79   3599179  268.78   \n",
       "2018-10-30 00:00:00-04:00  104.68  104.78  104.64  104.65   2246561  263.67   \n",
       "2018-10-31 00:00:00-04:00  104.50  104.70  104.50  104.58  11670445  270.65   \n",
       "2018-11-01 00:00:00-04:00  104.22  104.41  104.21  104.35   6974347  271.62   \n",
       "2018-11-02 00:00:00-04:00  104.25  104.29  103.94  104.01   4207916  274.74   \n",
       "\n",
       "                                                              \n",
       "                             high     low   close     volume  \n",
       "time                                                          \n",
       "2018-10-29 00:00:00-04:00  270.25  259.85  263.80  120705901  \n",
       "2018-10-30 00:00:00-04:00  268.12  263.12  267.81  122643325  \n",
       "2018-10-31 00:00:00-04:00  273.23  270.12  270.69   97427146  \n",
       "2018-11-01 00:00:00-04:00  273.73  270.38  273.51   72100016  \n",
       "2018-11-02 00:00:00-04:00  275.23  269.59  271.80   93545041  "
      ]
     },
     "metadata": {},
     "output_type": "display_data"
    },
    {
     "data": {
      "text/html": [
       "<div>\n",
       "<style scoped>\n",
       "    .dataframe tbody tr th:only-of-type {\n",
       "        vertical-align: middle;\n",
       "    }\n",
       "\n",
       "    .dataframe tbody tr th {\n",
       "        vertical-align: top;\n",
       "    }\n",
       "\n",
       "    .dataframe thead tr th {\n",
       "        text-align: left;\n",
       "    }\n",
       "\n",
       "    .dataframe thead tr:last-of-type th {\n",
       "        text-align: right;\n",
       "    }\n",
       "</style>\n",
       "<table border=\"1\" class=\"dataframe\">\n",
       "  <thead>\n",
       "    <tr>\n",
       "      <th></th>\n",
       "      <th colspan=\"5\" halign=\"left\">AGG</th>\n",
       "      <th colspan=\"5\" halign=\"left\">SPY</th>\n",
       "    </tr>\n",
       "    <tr>\n",
       "      <th></th>\n",
       "      <th>open</th>\n",
       "      <th>high</th>\n",
       "      <th>low</th>\n",
       "      <th>close</th>\n",
       "      <th>volume</th>\n",
       "      <th>open</th>\n",
       "      <th>high</th>\n",
       "      <th>low</th>\n",
       "      <th>close</th>\n",
       "      <th>volume</th>\n",
       "    </tr>\n",
       "    <tr>\n",
       "      <th>time</th>\n",
       "      <th></th>\n",
       "      <th></th>\n",
       "      <th></th>\n",
       "      <th></th>\n",
       "      <th></th>\n",
       "      <th></th>\n",
       "      <th></th>\n",
       "      <th></th>\n",
       "      <th></th>\n",
       "      <th></th>\n",
       "    </tr>\n",
       "  </thead>\n",
       "  <tbody>\n",
       "    <tr>\n",
       "      <th>2021-10-25 00:00:00-04:00</th>\n",
       "      <td>114.06</td>\n",
       "      <td>114.270</td>\n",
       "      <td>114.060</td>\n",
       "      <td>114.17</td>\n",
       "      <td>7088133</td>\n",
       "      <td>454.28</td>\n",
       "      <td>455.90</td>\n",
       "      <td>452.39</td>\n",
       "      <td>455.48</td>\n",
       "      <td>37918548</td>\n",
       "    </tr>\n",
       "    <tr>\n",
       "      <th>2021-10-26 00:00:00-04:00</th>\n",
       "      <td>114.25</td>\n",
       "      <td>114.380</td>\n",
       "      <td>114.110</td>\n",
       "      <td>114.37</td>\n",
       "      <td>5284755</td>\n",
       "      <td>457.20</td>\n",
       "      <td>458.49</td>\n",
       "      <td>455.56</td>\n",
       "      <td>455.97</td>\n",
       "      <td>49865704</td>\n",
       "    </tr>\n",
       "    <tr>\n",
       "      <th>2021-10-27 00:00:00-04:00</th>\n",
       "      <td>114.66</td>\n",
       "      <td>114.915</td>\n",
       "      <td>114.425</td>\n",
       "      <td>114.77</td>\n",
       "      <td>6817074</td>\n",
       "      <td>456.45</td>\n",
       "      <td>457.16</td>\n",
       "      <td>453.86</td>\n",
       "      <td>453.92</td>\n",
       "      <td>48219255</td>\n",
       "    </tr>\n",
       "    <tr>\n",
       "      <th>2021-10-28 00:00:00-04:00</th>\n",
       "      <td>114.71</td>\n",
       "      <td>114.825</td>\n",
       "      <td>114.570</td>\n",
       "      <td>114.65</td>\n",
       "      <td>4971007</td>\n",
       "      <td>455.46</td>\n",
       "      <td>458.40</td>\n",
       "      <td>455.45</td>\n",
       "      <td>458.27</td>\n",
       "      <td>43081788</td>\n",
       "    </tr>\n",
       "    <tr>\n",
       "      <th>2021-10-29 00:00:00-04:00</th>\n",
       "      <td>114.35</td>\n",
       "      <td>114.780</td>\n",
       "      <td>114.350</td>\n",
       "      <td>114.62</td>\n",
       "      <td>7051614</td>\n",
       "      <td>455.87</td>\n",
       "      <td>459.56</td>\n",
       "      <td>455.56</td>\n",
       "      <td>459.22</td>\n",
       "      <td>58813207</td>\n",
       "    </tr>\n",
       "  </tbody>\n",
       "</table>\n",
       "</div>"
      ],
      "text/plain": [
       "                              AGG                                        SPY  \\\n",
       "                             open     high      low   close   volume    open   \n",
       "time                                                                           \n",
       "2021-10-25 00:00:00-04:00  114.06  114.270  114.060  114.17  7088133  454.28   \n",
       "2021-10-26 00:00:00-04:00  114.25  114.380  114.110  114.37  5284755  457.20   \n",
       "2021-10-27 00:00:00-04:00  114.66  114.915  114.425  114.77  6817074  456.45   \n",
       "2021-10-28 00:00:00-04:00  114.71  114.825  114.570  114.65  4971007  455.46   \n",
       "2021-10-29 00:00:00-04:00  114.35  114.780  114.350  114.62  7051614  455.87   \n",
       "\n",
       "                                                             \n",
       "                             high     low   close    volume  \n",
       "time                                                         \n",
       "2021-10-25 00:00:00-04:00  455.90  452.39  455.48  37918548  \n",
       "2021-10-26 00:00:00-04:00  458.49  455.56  455.97  49865704  \n",
       "2021-10-27 00:00:00-04:00  457.16  453.86  453.92  48219255  \n",
       "2021-10-28 00:00:00-04:00  458.40  455.45  458.27  43081788  \n",
       "2021-10-29 00:00:00-04:00  459.56  455.56  459.22  58813207  "
      ]
     },
     "metadata": {},
     "output_type": "display_data"
    }
   ],
   "source": [
    "# Use the Alpaca get_barset function to make the API call to get the 3 years worth of pricing data\n",
    "# The tickers and timeframe parameters should have been set in Part 1 of this activity \n",
    "# The start and end dates should be updated with the information set above\n",
    "# Remember to add the df property to the end of the call so the response is returned as a DataFrame\n",
    "simulation_df = alpaca.get_barset(\n",
    "    tickers,\n",
    "    timeframe,\n",
    "    start = start_date_mc,\n",
    "    end = end_date_mc,\n",
    "    limit = limit_rows).df\n",
    "\n",
    "# Display both the first and last five rows of the DataFrame\n",
    "display(simulation_df.head())\n",
    "display(simulation_df.tail())\n"
   ]
  },
  {
   "cell_type": "markdown",
   "metadata": {},
   "source": [
    "#### Step 2: Run a Monte Carlo simulation of 500 samples and 30 years for the 60/40 portfolio, and then plot the results."
   ]
  },
  {
   "cell_type": "code",
   "execution_count": 277,
   "metadata": {},
   "outputs": [
    {
     "data": {
      "text/html": [
       "<div>\n",
       "<style scoped>\n",
       "    .dataframe tbody tr th:only-of-type {\n",
       "        vertical-align: middle;\n",
       "    }\n",
       "\n",
       "    .dataframe tbody tr th {\n",
       "        vertical-align: top;\n",
       "    }\n",
       "\n",
       "    .dataframe thead tr th {\n",
       "        text-align: left;\n",
       "    }\n",
       "\n",
       "    .dataframe thead tr:last-of-type th {\n",
       "        text-align: right;\n",
       "    }\n",
       "</style>\n",
       "<table border=\"1\" class=\"dataframe\">\n",
       "  <thead>\n",
       "    <tr>\n",
       "      <th></th>\n",
       "      <th colspan=\"6\" halign=\"left\">AGG</th>\n",
       "      <th colspan=\"6\" halign=\"left\">SPY</th>\n",
       "    </tr>\n",
       "    <tr>\n",
       "      <th></th>\n",
       "      <th>open</th>\n",
       "      <th>high</th>\n",
       "      <th>low</th>\n",
       "      <th>close</th>\n",
       "      <th>volume</th>\n",
       "      <th>daily_return</th>\n",
       "      <th>open</th>\n",
       "      <th>high</th>\n",
       "      <th>low</th>\n",
       "      <th>close</th>\n",
       "      <th>volume</th>\n",
       "      <th>daily_return</th>\n",
       "    </tr>\n",
       "    <tr>\n",
       "      <th>time</th>\n",
       "      <th></th>\n",
       "      <th></th>\n",
       "      <th></th>\n",
       "      <th></th>\n",
       "      <th></th>\n",
       "      <th></th>\n",
       "      <th></th>\n",
       "      <th></th>\n",
       "      <th></th>\n",
       "      <th></th>\n",
       "      <th></th>\n",
       "      <th></th>\n",
       "    </tr>\n",
       "  </thead>\n",
       "  <tbody>\n",
       "    <tr>\n",
       "      <th>2018-10-29 00:00:00-04:00</th>\n",
       "      <td>104.86</td>\n",
       "      <td>104.89</td>\n",
       "      <td>104.72</td>\n",
       "      <td>104.79</td>\n",
       "      <td>3599179</td>\n",
       "      <td>NaN</td>\n",
       "      <td>268.78</td>\n",
       "      <td>270.25</td>\n",
       "      <td>259.85</td>\n",
       "      <td>263.80</td>\n",
       "      <td>120705901</td>\n",
       "      <td>NaN</td>\n",
       "    </tr>\n",
       "    <tr>\n",
       "      <th>2018-10-30 00:00:00-04:00</th>\n",
       "      <td>104.68</td>\n",
       "      <td>104.78</td>\n",
       "      <td>104.64</td>\n",
       "      <td>104.65</td>\n",
       "      <td>2246561</td>\n",
       "      <td>-0.001336</td>\n",
       "      <td>263.67</td>\n",
       "      <td>268.12</td>\n",
       "      <td>263.12</td>\n",
       "      <td>267.81</td>\n",
       "      <td>122643325</td>\n",
       "      <td>0.015201</td>\n",
       "    </tr>\n",
       "    <tr>\n",
       "      <th>2018-10-31 00:00:00-04:00</th>\n",
       "      <td>104.50</td>\n",
       "      <td>104.70</td>\n",
       "      <td>104.50</td>\n",
       "      <td>104.58</td>\n",
       "      <td>11670445</td>\n",
       "      <td>-0.000669</td>\n",
       "      <td>270.65</td>\n",
       "      <td>273.23</td>\n",
       "      <td>270.12</td>\n",
       "      <td>270.69</td>\n",
       "      <td>97427146</td>\n",
       "      <td>0.010754</td>\n",
       "    </tr>\n",
       "    <tr>\n",
       "      <th>2018-11-01 00:00:00-04:00</th>\n",
       "      <td>104.22</td>\n",
       "      <td>104.41</td>\n",
       "      <td>104.21</td>\n",
       "      <td>104.35</td>\n",
       "      <td>6974347</td>\n",
       "      <td>-0.002199</td>\n",
       "      <td>271.62</td>\n",
       "      <td>273.73</td>\n",
       "      <td>270.38</td>\n",
       "      <td>273.51</td>\n",
       "      <td>72100016</td>\n",
       "      <td>0.010418</td>\n",
       "    </tr>\n",
       "    <tr>\n",
       "      <th>2018-11-02 00:00:00-04:00</th>\n",
       "      <td>104.25</td>\n",
       "      <td>104.29</td>\n",
       "      <td>103.94</td>\n",
       "      <td>104.01</td>\n",
       "      <td>4207916</td>\n",
       "      <td>-0.003258</td>\n",
       "      <td>274.74</td>\n",
       "      <td>275.23</td>\n",
       "      <td>269.59</td>\n",
       "      <td>271.80</td>\n",
       "      <td>93545041</td>\n",
       "      <td>-0.006252</td>\n",
       "    </tr>\n",
       "  </tbody>\n",
       "</table>\n",
       "</div>"
      ],
      "text/plain": [
       "                              AGG                                    \\\n",
       "                             open    high     low   close    volume   \n",
       "time                                                                  \n",
       "2018-10-29 00:00:00-04:00  104.86  104.89  104.72  104.79   3599179   \n",
       "2018-10-30 00:00:00-04:00  104.68  104.78  104.64  104.65   2246561   \n",
       "2018-10-31 00:00:00-04:00  104.50  104.70  104.50  104.58  11670445   \n",
       "2018-11-01 00:00:00-04:00  104.22  104.41  104.21  104.35   6974347   \n",
       "2018-11-02 00:00:00-04:00  104.25  104.29  103.94  104.01   4207916   \n",
       "\n",
       "                                           SPY                          \\\n",
       "                          daily_return    open    high     low   close   \n",
       "time                                                                     \n",
       "2018-10-29 00:00:00-04:00          NaN  268.78  270.25  259.85  263.80   \n",
       "2018-10-30 00:00:00-04:00    -0.001336  263.67  268.12  263.12  267.81   \n",
       "2018-10-31 00:00:00-04:00    -0.000669  270.65  273.23  270.12  270.69   \n",
       "2018-11-01 00:00:00-04:00    -0.002199  271.62  273.73  270.38  273.51   \n",
       "2018-11-02 00:00:00-04:00    -0.003258  274.74  275.23  269.59  271.80   \n",
       "\n",
       "                                                   \n",
       "                              volume daily_return  \n",
       "time                                               \n",
       "2018-10-29 00:00:00-04:00  120705901          NaN  \n",
       "2018-10-30 00:00:00-04:00  122643325     0.015201  \n",
       "2018-10-31 00:00:00-04:00   97427146     0.010754  \n",
       "2018-11-01 00:00:00-04:00   72100016     0.010418  \n",
       "2018-11-02 00:00:00-04:00   93545041    -0.006252  "
      ]
     },
     "execution_count": 277,
     "metadata": {},
     "output_type": "execute_result"
    }
   ],
   "source": [
    "# Configure the Monte Carlo simulation to forecast 30 years cumulative returns\n",
    "# The weights should be split 40% to AGG and 60% to SPY.\n",
    "# Run 500 samples.\n",
    "simulation_30year = MCSimulation(\n",
    "    portfolio_data=simulation_df,\n",
    "    weights = [.40,.60],\n",
    "    num_simulation = 500,\n",
    "    num_trading_days = 252*30)\n",
    "\n",
    "# Review the simulation input data\n",
    "simulation_30year.portfolio_data.head()\n"
   ]
  },
  {
   "cell_type": "code",
   "execution_count": 279,
   "metadata": {},
   "outputs": [
    {
     "name": "stdout",
     "output_type": "stream",
     "text": [
      "Running Monte Carlo simulation number 0.\n",
      "Running Monte Carlo simulation number 10.\n",
      "Running Monte Carlo simulation number 20.\n",
      "Running Monte Carlo simulation number 30.\n",
      "Running Monte Carlo simulation number 40.\n",
      "Running Monte Carlo simulation number 50.\n",
      "Running Monte Carlo simulation number 60.\n",
      "Running Monte Carlo simulation number 70.\n",
      "Running Monte Carlo simulation number 80.\n",
      "Running Monte Carlo simulation number 90.\n",
      "Running Monte Carlo simulation number 100.\n"
     ]
    },
    {
     "name": "stderr",
     "output_type": "stream",
     "text": [
      "C:\\Users\\domto\\Desktop\\Portfolio_Management\\Starter_Code\\MCForecastTools.py:117: PerformanceWarning: DataFrame is highly fragmented.  This is usually the result of calling `frame.insert` many times, which has poor performance.  Consider joining all columns at once using pd.concat(axis=1) instead.  To get a de-fragmented frame, use `newframe = frame.copy()`\n",
      "  portfolio_cumulative_returns[n] = (1 + sim_df.fillna(0)).cumprod()\n"
     ]
    },
    {
     "name": "stdout",
     "output_type": "stream",
     "text": [
      "Running Monte Carlo simulation number 110.\n",
      "Running Monte Carlo simulation number 120.\n",
      "Running Monte Carlo simulation number 130.\n",
      "Running Monte Carlo simulation number 140.\n",
      "Running Monte Carlo simulation number 150.\n",
      "Running Monte Carlo simulation number 160.\n",
      "Running Monte Carlo simulation number 170.\n",
      "Running Monte Carlo simulation number 180.\n",
      "Running Monte Carlo simulation number 190.\n",
      "Running Monte Carlo simulation number 200.\n",
      "Running Monte Carlo simulation number 210.\n",
      "Running Monte Carlo simulation number 220.\n",
      "Running Monte Carlo simulation number 230.\n",
      "Running Monte Carlo simulation number 240.\n",
      "Running Monte Carlo simulation number 250.\n",
      "Running Monte Carlo simulation number 260.\n",
      "Running Monte Carlo simulation number 270.\n",
      "Running Monte Carlo simulation number 280.\n",
      "Running Monte Carlo simulation number 290.\n",
      "Running Monte Carlo simulation number 300.\n",
      "Running Monte Carlo simulation number 310.\n",
      "Running Monte Carlo simulation number 320.\n",
      "Running Monte Carlo simulation number 330.\n",
      "Running Monte Carlo simulation number 340.\n",
      "Running Monte Carlo simulation number 350.\n",
      "Running Monte Carlo simulation number 360.\n",
      "Running Monte Carlo simulation number 370.\n",
      "Running Monte Carlo simulation number 380.\n",
      "Running Monte Carlo simulation number 390.\n",
      "Running Monte Carlo simulation number 400.\n",
      "Running Monte Carlo simulation number 410.\n",
      "Running Monte Carlo simulation number 420.\n",
      "Running Monte Carlo simulation number 430.\n",
      "Running Monte Carlo simulation number 440.\n",
      "Running Monte Carlo simulation number 450.\n",
      "Running Monte Carlo simulation number 460.\n",
      "Running Monte Carlo simulation number 470.\n",
      "Running Monte Carlo simulation number 480.\n",
      "Running Monte Carlo simulation number 490.\n"
     ]
    },
    {
     "data": {
      "text/html": [
       "<div>\n",
       "<style scoped>\n",
       "    .dataframe tbody tr th:only-of-type {\n",
       "        vertical-align: middle;\n",
       "    }\n",
       "\n",
       "    .dataframe tbody tr th {\n",
       "        vertical-align: top;\n",
       "    }\n",
       "\n",
       "    .dataframe thead th {\n",
       "        text-align: right;\n",
       "    }\n",
       "</style>\n",
       "<table border=\"1\" class=\"dataframe\">\n",
       "  <thead>\n",
       "    <tr style=\"text-align: right;\">\n",
       "      <th></th>\n",
       "      <th>0</th>\n",
       "      <th>1</th>\n",
       "      <th>2</th>\n",
       "      <th>3</th>\n",
       "      <th>4</th>\n",
       "      <th>5</th>\n",
       "      <th>6</th>\n",
       "      <th>7</th>\n",
       "      <th>8</th>\n",
       "      <th>9</th>\n",
       "      <th>...</th>\n",
       "      <th>490</th>\n",
       "      <th>491</th>\n",
       "      <th>492</th>\n",
       "      <th>493</th>\n",
       "      <th>494</th>\n",
       "      <th>495</th>\n",
       "      <th>496</th>\n",
       "      <th>497</th>\n",
       "      <th>498</th>\n",
       "      <th>499</th>\n",
       "    </tr>\n",
       "  </thead>\n",
       "  <tbody>\n",
       "    <tr>\n",
       "      <th>0</th>\n",
       "      <td>1.000000</td>\n",
       "      <td>1.000000</td>\n",
       "      <td>1.000000</td>\n",
       "      <td>1.000000</td>\n",
       "      <td>1.000000</td>\n",
       "      <td>1.000000</td>\n",
       "      <td>1.000000</td>\n",
       "      <td>1.000000</td>\n",
       "      <td>1.000000</td>\n",
       "      <td>1.000000</td>\n",
       "      <td>...</td>\n",
       "      <td>1.000000</td>\n",
       "      <td>1.000000</td>\n",
       "      <td>1.000000</td>\n",
       "      <td>1.000000</td>\n",
       "      <td>1.000000</td>\n",
       "      <td>1.000000</td>\n",
       "      <td>1.000000</td>\n",
       "      <td>1.000000</td>\n",
       "      <td>1.000000</td>\n",
       "      <td>1.000000</td>\n",
       "    </tr>\n",
       "    <tr>\n",
       "      <th>1</th>\n",
       "      <td>0.991868</td>\n",
       "      <td>1.014288</td>\n",
       "      <td>0.994721</td>\n",
       "      <td>0.986744</td>\n",
       "      <td>1.004279</td>\n",
       "      <td>0.994326</td>\n",
       "      <td>0.992813</td>\n",
       "      <td>1.004025</td>\n",
       "      <td>0.994474</td>\n",
       "      <td>0.996551</td>\n",
       "      <td>...</td>\n",
       "      <td>0.997057</td>\n",
       "      <td>0.996697</td>\n",
       "      <td>0.996358</td>\n",
       "      <td>0.983112</td>\n",
       "      <td>0.988759</td>\n",
       "      <td>0.997229</td>\n",
       "      <td>0.981236</td>\n",
       "      <td>1.012929</td>\n",
       "      <td>0.993849</td>\n",
       "      <td>0.990523</td>\n",
       "    </tr>\n",
       "    <tr>\n",
       "      <th>2</th>\n",
       "      <td>0.992991</td>\n",
       "      <td>1.041415</td>\n",
       "      <td>0.984385</td>\n",
       "      <td>0.994702</td>\n",
       "      <td>1.014201</td>\n",
       "      <td>1.001714</td>\n",
       "      <td>0.989503</td>\n",
       "      <td>1.009333</td>\n",
       "      <td>1.000369</td>\n",
       "      <td>0.998247</td>\n",
       "      <td>...</td>\n",
       "      <td>0.989083</td>\n",
       "      <td>0.998280</td>\n",
       "      <td>0.994122</td>\n",
       "      <td>0.974000</td>\n",
       "      <td>0.982252</td>\n",
       "      <td>0.991237</td>\n",
       "      <td>0.991208</td>\n",
       "      <td>1.012898</td>\n",
       "      <td>0.992606</td>\n",
       "      <td>0.990218</td>\n",
       "    </tr>\n",
       "    <tr>\n",
       "      <th>3</th>\n",
       "      <td>1.002664</td>\n",
       "      <td>1.037666</td>\n",
       "      <td>0.997992</td>\n",
       "      <td>0.996221</td>\n",
       "      <td>1.015791</td>\n",
       "      <td>0.993046</td>\n",
       "      <td>0.979121</td>\n",
       "      <td>1.023839</td>\n",
       "      <td>1.020626</td>\n",
       "      <td>0.985316</td>\n",
       "      <td>...</td>\n",
       "      <td>0.979095</td>\n",
       "      <td>1.001331</td>\n",
       "      <td>0.995020</td>\n",
       "      <td>0.974318</td>\n",
       "      <td>0.983177</td>\n",
       "      <td>0.990911</td>\n",
       "      <td>0.986420</td>\n",
       "      <td>1.017130</td>\n",
       "      <td>0.983477</td>\n",
       "      <td>0.984503</td>\n",
       "    </tr>\n",
       "    <tr>\n",
       "      <th>4</th>\n",
       "      <td>1.000949</td>\n",
       "      <td>1.042938</td>\n",
       "      <td>1.002976</td>\n",
       "      <td>0.999510</td>\n",
       "      <td>1.019280</td>\n",
       "      <td>0.997294</td>\n",
       "      <td>0.995461</td>\n",
       "      <td>1.025512</td>\n",
       "      <td>1.027420</td>\n",
       "      <td>0.994266</td>\n",
       "      <td>...</td>\n",
       "      <td>0.979298</td>\n",
       "      <td>1.001861</td>\n",
       "      <td>0.989001</td>\n",
       "      <td>0.970792</td>\n",
       "      <td>0.980559</td>\n",
       "      <td>0.982575</td>\n",
       "      <td>0.990251</td>\n",
       "      <td>1.019431</td>\n",
       "      <td>0.995183</td>\n",
       "      <td>0.995490</td>\n",
       "    </tr>\n",
       "    <tr>\n",
       "      <th>...</th>\n",
       "      <td>...</td>\n",
       "      <td>...</td>\n",
       "      <td>...</td>\n",
       "      <td>...</td>\n",
       "      <td>...</td>\n",
       "      <td>...</td>\n",
       "      <td>...</td>\n",
       "      <td>...</td>\n",
       "      <td>...</td>\n",
       "      <td>...</td>\n",
       "      <td>...</td>\n",
       "      <td>...</td>\n",
       "      <td>...</td>\n",
       "      <td>...</td>\n",
       "      <td>...</td>\n",
       "      <td>...</td>\n",
       "      <td>...</td>\n",
       "      <td>...</td>\n",
       "      <td>...</td>\n",
       "      <td>...</td>\n",
       "      <td>...</td>\n",
       "    </tr>\n",
       "    <tr>\n",
       "      <th>7556</th>\n",
       "      <td>126.106126</td>\n",
       "      <td>50.724550</td>\n",
       "      <td>94.496031</td>\n",
       "      <td>14.540713</td>\n",
       "      <td>26.038480</td>\n",
       "      <td>88.389080</td>\n",
       "      <td>57.439407</td>\n",
       "      <td>55.125942</td>\n",
       "      <td>24.240188</td>\n",
       "      <td>20.254937</td>\n",
       "      <td>...</td>\n",
       "      <td>111.688838</td>\n",
       "      <td>23.069172</td>\n",
       "      <td>98.626083</td>\n",
       "      <td>80.814641</td>\n",
       "      <td>46.308732</td>\n",
       "      <td>66.903838</td>\n",
       "      <td>28.787483</td>\n",
       "      <td>4.473737</td>\n",
       "      <td>60.946793</td>\n",
       "      <td>124.441725</td>\n",
       "    </tr>\n",
       "    <tr>\n",
       "      <th>7557</th>\n",
       "      <td>126.800301</td>\n",
       "      <td>50.628139</td>\n",
       "      <td>94.253550</td>\n",
       "      <td>14.771790</td>\n",
       "      <td>25.936183</td>\n",
       "      <td>88.236079</td>\n",
       "      <td>57.485416</td>\n",
       "      <td>54.641197</td>\n",
       "      <td>23.689835</td>\n",
       "      <td>20.598866</td>\n",
       "      <td>...</td>\n",
       "      <td>111.526441</td>\n",
       "      <td>22.986731</td>\n",
       "      <td>97.882834</td>\n",
       "      <td>80.957761</td>\n",
       "      <td>46.667180</td>\n",
       "      <td>67.783533</td>\n",
       "      <td>28.956987</td>\n",
       "      <td>4.447292</td>\n",
       "      <td>60.531256</td>\n",
       "      <td>123.043907</td>\n",
       "    </tr>\n",
       "    <tr>\n",
       "      <th>7558</th>\n",
       "      <td>126.321645</td>\n",
       "      <td>50.154174</td>\n",
       "      <td>94.406492</td>\n",
       "      <td>14.720626</td>\n",
       "      <td>25.773150</td>\n",
       "      <td>88.075744</td>\n",
       "      <td>58.387605</td>\n",
       "      <td>54.585090</td>\n",
       "      <td>23.846513</td>\n",
       "      <td>20.679967</td>\n",
       "      <td>...</td>\n",
       "      <td>111.967961</td>\n",
       "      <td>23.129623</td>\n",
       "      <td>97.577413</td>\n",
       "      <td>80.203513</td>\n",
       "      <td>46.786654</td>\n",
       "      <td>67.511644</td>\n",
       "      <td>29.015752</td>\n",
       "      <td>4.418575</td>\n",
       "      <td>61.225173</td>\n",
       "      <td>123.709514</td>\n",
       "    </tr>\n",
       "    <tr>\n",
       "      <th>7559</th>\n",
       "      <td>125.728979</td>\n",
       "      <td>49.182190</td>\n",
       "      <td>93.214704</td>\n",
       "      <td>14.989818</td>\n",
       "      <td>26.046426</td>\n",
       "      <td>87.211509</td>\n",
       "      <td>58.877079</td>\n",
       "      <td>54.029208</td>\n",
       "      <td>23.705296</td>\n",
       "      <td>20.782335</td>\n",
       "      <td>...</td>\n",
       "      <td>114.792309</td>\n",
       "      <td>23.102109</td>\n",
       "      <td>98.456929</td>\n",
       "      <td>81.815718</td>\n",
       "      <td>46.831834</td>\n",
       "      <td>67.035793</td>\n",
       "      <td>28.784870</td>\n",
       "      <td>4.498439</td>\n",
       "      <td>62.329757</td>\n",
       "      <td>122.815695</td>\n",
       "    </tr>\n",
       "    <tr>\n",
       "      <th>7560</th>\n",
       "      <td>125.517161</td>\n",
       "      <td>49.299044</td>\n",
       "      <td>93.308966</td>\n",
       "      <td>15.029363</td>\n",
       "      <td>25.818845</td>\n",
       "      <td>87.956264</td>\n",
       "      <td>58.933805</td>\n",
       "      <td>53.552760</td>\n",
       "      <td>24.127529</td>\n",
       "      <td>20.645257</td>\n",
       "      <td>...</td>\n",
       "      <td>116.380689</td>\n",
       "      <td>22.784389</td>\n",
       "      <td>99.292056</td>\n",
       "      <td>82.794664</td>\n",
       "      <td>46.731530</td>\n",
       "      <td>67.824715</td>\n",
       "      <td>28.622204</td>\n",
       "      <td>4.474463</td>\n",
       "      <td>62.125794</td>\n",
       "      <td>122.897912</td>\n",
       "    </tr>\n",
       "  </tbody>\n",
       "</table>\n",
       "<p>7561 rows × 500 columns</p>\n",
       "</div>"
      ],
      "text/plain": [
       "             0          1          2          3          4          5    \\\n",
       "0       1.000000   1.000000   1.000000   1.000000   1.000000   1.000000   \n",
       "1       0.991868   1.014288   0.994721   0.986744   1.004279   0.994326   \n",
       "2       0.992991   1.041415   0.984385   0.994702   1.014201   1.001714   \n",
       "3       1.002664   1.037666   0.997992   0.996221   1.015791   0.993046   \n",
       "4       1.000949   1.042938   1.002976   0.999510   1.019280   0.997294   \n",
       "...          ...        ...        ...        ...        ...        ...   \n",
       "7556  126.106126  50.724550  94.496031  14.540713  26.038480  88.389080   \n",
       "7557  126.800301  50.628139  94.253550  14.771790  25.936183  88.236079   \n",
       "7558  126.321645  50.154174  94.406492  14.720626  25.773150  88.075744   \n",
       "7559  125.728979  49.182190  93.214704  14.989818  26.046426  87.211509   \n",
       "7560  125.517161  49.299044  93.308966  15.029363  25.818845  87.956264   \n",
       "\n",
       "            6          7          8          9    ...         490        491  \\\n",
       "0      1.000000   1.000000   1.000000   1.000000  ...    1.000000   1.000000   \n",
       "1      0.992813   1.004025   0.994474   0.996551  ...    0.997057   0.996697   \n",
       "2      0.989503   1.009333   1.000369   0.998247  ...    0.989083   0.998280   \n",
       "3      0.979121   1.023839   1.020626   0.985316  ...    0.979095   1.001331   \n",
       "4      0.995461   1.025512   1.027420   0.994266  ...    0.979298   1.001861   \n",
       "...         ...        ...        ...        ...  ...         ...        ...   \n",
       "7556  57.439407  55.125942  24.240188  20.254937  ...  111.688838  23.069172   \n",
       "7557  57.485416  54.641197  23.689835  20.598866  ...  111.526441  22.986731   \n",
       "7558  58.387605  54.585090  23.846513  20.679967  ...  111.967961  23.129623   \n",
       "7559  58.877079  54.029208  23.705296  20.782335  ...  114.792309  23.102109   \n",
       "7560  58.933805  53.552760  24.127529  20.645257  ...  116.380689  22.784389   \n",
       "\n",
       "            492        493        494        495        496       497  \\\n",
       "0      1.000000   1.000000   1.000000   1.000000   1.000000  1.000000   \n",
       "1      0.996358   0.983112   0.988759   0.997229   0.981236  1.012929   \n",
       "2      0.994122   0.974000   0.982252   0.991237   0.991208  1.012898   \n",
       "3      0.995020   0.974318   0.983177   0.990911   0.986420  1.017130   \n",
       "4      0.989001   0.970792   0.980559   0.982575   0.990251  1.019431   \n",
       "...         ...        ...        ...        ...        ...       ...   \n",
       "7556  98.626083  80.814641  46.308732  66.903838  28.787483  4.473737   \n",
       "7557  97.882834  80.957761  46.667180  67.783533  28.956987  4.447292   \n",
       "7558  97.577413  80.203513  46.786654  67.511644  29.015752  4.418575   \n",
       "7559  98.456929  81.815718  46.831834  67.035793  28.784870  4.498439   \n",
       "7560  99.292056  82.794664  46.731530  67.824715  28.622204  4.474463   \n",
       "\n",
       "            498         499  \n",
       "0      1.000000    1.000000  \n",
       "1      0.993849    0.990523  \n",
       "2      0.992606    0.990218  \n",
       "3      0.983477    0.984503  \n",
       "4      0.995183    0.995490  \n",
       "...         ...         ...  \n",
       "7556  60.946793  124.441725  \n",
       "7557  60.531256  123.043907  \n",
       "7558  61.225173  123.709514  \n",
       "7559  62.329757  122.815695  \n",
       "7560  62.125794  122.897912  \n",
       "\n",
       "[7561 rows x 500 columns]"
      ]
     },
     "execution_count": 279,
     "metadata": {},
     "output_type": "execute_result"
    }
   ],
   "source": [
    "# Run the Monte Carlo simulation to forecast 30 years cumulative returns\n",
    "simulation_30year.calc_cumulative_return()\n"
   ]
  },
  {
   "cell_type": "code",
   "execution_count": 280,
   "metadata": {},
   "outputs": [
    {
     "data": {
      "image/png": "[encoded data removed]",
      "text/plain": [
       "<Figure size 432x288 with 1 Axes>"
      ]
     },
     "metadata": {
      "needs_background": "light"
     },
     "output_type": "display_data"
    }
   ],
   "source": [
    "# Visualize the 30-year Monte Carlo simulation by creating an\n",
    "# overlay line plot\n",
    "simulation_30year_plot = simulation_30year.plot_simulation()\n"
   ]
  },
  {
   "cell_type": "markdown",
   "metadata": {},
   "source": [
    "#### Step 3: Plot the probability distribution of the Monte Carlo simulation."
   ]
  },
  {
   "cell_type": "code",
   "execution_count": 281,
   "metadata": {},
   "outputs": [
    {
     "data": {
      "image/png": "[encoded data removed]",
      "text/plain": [
       "<Figure size 432x288 with 1 Axes>"
      ]
     },
     "metadata": {
      "needs_background": "light"
     },
     "output_type": "display_data"
    }
   ],
   "source": [
    "# Visualize the probability distribution of the 30-year Monte Carlo simulation \n",
    "# by plotting a histogram\n",
    "simulation_30year_distribution = simulation_30year.plot_distribution()"
   ]
  },
  {
   "cell_type": "markdown",
   "metadata": {},
   "source": [
    "#### Step 4: Generate the summary statistics for the Monte Carlo simulation."
   ]
  },
  {
   "cell_type": "code",
   "execution_count": 283,
   "metadata": {},
   "outputs": [
    {
     "name": "stdout",
     "output_type": "stream",
     "text": [
      "count           500.000000\n",
      "mean             67.350107\n",
      "std              62.153638\n",
      "min               4.474463\n",
      "25%              28.015428\n",
      "50%              51.561486\n",
      "75%              84.594598\n",
      "max             593.155936\n",
      "95% CI Lower     12.234590\n",
      "95% CI Upper    221.000896\n",
      "Name: 7560, dtype: float64\n"
     ]
    }
   ],
   "source": [
    "# Generate summary statistics from the 30-year Monte Carlo simulation results\n",
    "# Save the results as a variable\n",
    "simulation_30year_summary = simulation_30year.summarize_cumulative_return()\n",
    "\n",
    "\n",
    "# Review the 30-year Monte Carlo summary statistics\n",
    "print(simulation_30year_summary)"
   ]
  },
  {
   "cell_type": "markdown",
   "metadata": {},
   "source": [
    "### Analyze the Retirement Portfolio Forecasts\n",
    "\n",
    "Using the current value of only the stock and bond portion of the member's portfolio and the summary statistics that you generated from the Monte Carlo simulation, answer the following question in your Jupyter notebook:\n",
    "\n",
    "-  What are the lower and upper bounds for the expected value of the portfolio with a 95% confidence interval?\n"
   ]
  },
  {
   "cell_type": "code",
   "execution_count": 317,
   "metadata": {},
   "outputs": [
    {
     "name": "stdout",
     "output_type": "stream",
     "text": [
      "The current value of your stocks and bond portfolio is $ 73438.20 \n"
     ]
    }
   ],
   "source": [
    "# Print the current balance of the stock and bond portion of the members portfolio\n",
    "\n",
    "print(f'The current value of your stocks and bond portfolio is ${total_stocks_bonds[0]: .2f} ')\n"
   ]
  },
  {
   "cell_type": "code",
   "execution_count": 291,
   "metadata": {},
   "outputs": [
    {
     "name": "stdout",
     "output_type": "stream",
     "text": [
      "There is a 95% chance that your current value of $ 73438.20 in your portfolio over the next 30 years will end within the range of $ 898483.84 and $ 16229863.82.\n"
     ]
    }
   ],
   "source": [
    "# Use the lower and upper `95%` confidence intervals to calculate the range of the possible outcomes for the current stock/bond portfolio\n",
    "ci_lower_thirty_cumulative_return = simulation_30year_summary[8] * 73438\n",
    "ci_upper_thirty_cumulative_return = simulation_30year_summary[9] * 73438\n",
    "\n",
    "# Print the result of your calculations\n",
    "print(f'There is a 95% chance that your current value of ${total_stocks_bonds[0]: .2f} in your portfolio'\n",
    "      f' over the next 30 years will end within the range of'\n",
    "      f' ${ci_lower_thirty_cumulative_return: .2f} and ${ci_upper_thirty_cumulative_return: .2f}.')\n"
   ]
  },
  {
   "cell_type": "markdown",
   "metadata": {},
   "source": [
    "### Forecast Cumulative Returns in 10 Years\n",
    "\n",
    "The CTO of the credit union is impressed with your work on these planning tools but wonders if 30 years is a long time to wait until retirement. So, your next task is to adjust the retirement portfolio and run a new Monte Carlo simulation to find out if the changes will allow members to retire earlier.\n",
    "\n",
    "For this new Monte Carlo simulation, do the following: \n",
    "\n",
    "- Forecast the cumulative returns for 10 years from now. Because of the shortened investment horizon (30 years to 10 years), the portfolio needs to invest more heavily in the riskier asset&mdash;that is, stock&mdash;to help accumulate wealth for retirement. \n",
    "\n",
    "- Adjust the weights of the retirement portfolio so that the composition for the Monte Carlo simulation consists of 20% bonds and 80% stocks. \n",
    "\n",
    "- Run the simulation over 500 samples, and use the same data that the API call to Alpaca generated.\n",
    "\n",
    "- Based on the new Monte Carlo simulation, answer the following questions in your Jupyter notebook:\n",
    "\n",
    "    - Using the current value of only the stock and bond portion of the member's portfolio and the summary statistics that you generated from the new Monte Carlo simulation, what are the lower and upper bounds for the expected value of the portfolio (with the new weights) with a 95% confidence interval?\n",
    "\n",
    "    - Will weighting the portfolio more heavily toward stocks allow the credit union members to retire after only 10 years?\n"
   ]
  },
  {
   "cell_type": "code",
   "execution_count": 297,
   "metadata": {},
   "outputs": [
    {
     "data": {
      "text/html": [
       "<div>\n",
       "<style scoped>\n",
       "    .dataframe tbody tr th:only-of-type {\n",
       "        vertical-align: middle;\n",
       "    }\n",
       "\n",
       "    .dataframe tbody tr th {\n",
       "        vertical-align: top;\n",
       "    }\n",
       "\n",
       "    .dataframe thead tr th {\n",
       "        text-align: left;\n",
       "    }\n",
       "\n",
       "    .dataframe thead tr:last-of-type th {\n",
       "        text-align: right;\n",
       "    }\n",
       "</style>\n",
       "<table border=\"1\" class=\"dataframe\">\n",
       "  <thead>\n",
       "    <tr>\n",
       "      <th></th>\n",
       "      <th colspan=\"6\" halign=\"left\">AGG</th>\n",
       "      <th colspan=\"6\" halign=\"left\">SPY</th>\n",
       "    </tr>\n",
       "    <tr>\n",
       "      <th></th>\n",
       "      <th>open</th>\n",
       "      <th>high</th>\n",
       "      <th>low</th>\n",
       "      <th>close</th>\n",
       "      <th>volume</th>\n",
       "      <th>daily_return</th>\n",
       "      <th>open</th>\n",
       "      <th>high</th>\n",
       "      <th>low</th>\n",
       "      <th>close</th>\n",
       "      <th>volume</th>\n",
       "      <th>daily_return</th>\n",
       "    </tr>\n",
       "    <tr>\n",
       "      <th>time</th>\n",
       "      <th></th>\n",
       "      <th></th>\n",
       "      <th></th>\n",
       "      <th></th>\n",
       "      <th></th>\n",
       "      <th></th>\n",
       "      <th></th>\n",
       "      <th></th>\n",
       "      <th></th>\n",
       "      <th></th>\n",
       "      <th></th>\n",
       "      <th></th>\n",
       "    </tr>\n",
       "  </thead>\n",
       "  <tbody>\n",
       "    <tr>\n",
       "      <th>2018-10-29 00:00:00-04:00</th>\n",
       "      <td>104.86</td>\n",
       "      <td>104.89</td>\n",
       "      <td>104.72</td>\n",
       "      <td>104.79</td>\n",
       "      <td>3599179</td>\n",
       "      <td>NaN</td>\n",
       "      <td>268.78</td>\n",
       "      <td>270.25</td>\n",
       "      <td>259.85</td>\n",
       "      <td>263.80</td>\n",
       "      <td>120705901</td>\n",
       "      <td>NaN</td>\n",
       "    </tr>\n",
       "    <tr>\n",
       "      <th>2018-10-30 00:00:00-04:00</th>\n",
       "      <td>104.68</td>\n",
       "      <td>104.78</td>\n",
       "      <td>104.64</td>\n",
       "      <td>104.65</td>\n",
       "      <td>2246561</td>\n",
       "      <td>-0.001336</td>\n",
       "      <td>263.67</td>\n",
       "      <td>268.12</td>\n",
       "      <td>263.12</td>\n",
       "      <td>267.81</td>\n",
       "      <td>122643325</td>\n",
       "      <td>0.015201</td>\n",
       "    </tr>\n",
       "    <tr>\n",
       "      <th>2018-10-31 00:00:00-04:00</th>\n",
       "      <td>104.50</td>\n",
       "      <td>104.70</td>\n",
       "      <td>104.50</td>\n",
       "      <td>104.58</td>\n",
       "      <td>11670445</td>\n",
       "      <td>-0.000669</td>\n",
       "      <td>270.65</td>\n",
       "      <td>273.23</td>\n",
       "      <td>270.12</td>\n",
       "      <td>270.69</td>\n",
       "      <td>97427146</td>\n",
       "      <td>0.010754</td>\n",
       "    </tr>\n",
       "    <tr>\n",
       "      <th>2018-11-01 00:00:00-04:00</th>\n",
       "      <td>104.22</td>\n",
       "      <td>104.41</td>\n",
       "      <td>104.21</td>\n",
       "      <td>104.35</td>\n",
       "      <td>6974347</td>\n",
       "      <td>-0.002199</td>\n",
       "      <td>271.62</td>\n",
       "      <td>273.73</td>\n",
       "      <td>270.38</td>\n",
       "      <td>273.51</td>\n",
       "      <td>72100016</td>\n",
       "      <td>0.010418</td>\n",
       "    </tr>\n",
       "    <tr>\n",
       "      <th>2018-11-02 00:00:00-04:00</th>\n",
       "      <td>104.25</td>\n",
       "      <td>104.29</td>\n",
       "      <td>103.94</td>\n",
       "      <td>104.01</td>\n",
       "      <td>4207916</td>\n",
       "      <td>-0.003258</td>\n",
       "      <td>274.74</td>\n",
       "      <td>275.23</td>\n",
       "      <td>269.59</td>\n",
       "      <td>271.80</td>\n",
       "      <td>93545041</td>\n",
       "      <td>-0.006252</td>\n",
       "    </tr>\n",
       "  </tbody>\n",
       "</table>\n",
       "</div>"
      ],
      "text/plain": [
       "                              AGG                                    \\\n",
       "                             open    high     low   close    volume   \n",
       "time                                                                  \n",
       "2018-10-29 00:00:00-04:00  104.86  104.89  104.72  104.79   3599179   \n",
       "2018-10-30 00:00:00-04:00  104.68  104.78  104.64  104.65   2246561   \n",
       "2018-10-31 00:00:00-04:00  104.50  104.70  104.50  104.58  11670445   \n",
       "2018-11-01 00:00:00-04:00  104.22  104.41  104.21  104.35   6974347   \n",
       "2018-11-02 00:00:00-04:00  104.25  104.29  103.94  104.01   4207916   \n",
       "\n",
       "                                           SPY                          \\\n",
       "                          daily_return    open    high     low   close   \n",
       "time                                                                     \n",
       "2018-10-29 00:00:00-04:00          NaN  268.78  270.25  259.85  263.80   \n",
       "2018-10-30 00:00:00-04:00    -0.001336  263.67  268.12  263.12  267.81   \n",
       "2018-10-31 00:00:00-04:00    -0.000669  270.65  273.23  270.12  270.69   \n",
       "2018-11-01 00:00:00-04:00    -0.002199  271.62  273.73  270.38  273.51   \n",
       "2018-11-02 00:00:00-04:00    -0.003258  274.74  275.23  269.59  271.80   \n",
       "\n",
       "                                                   \n",
       "                              volume daily_return  \n",
       "time                                               \n",
       "2018-10-29 00:00:00-04:00  120705901          NaN  \n",
       "2018-10-30 00:00:00-04:00  122643325     0.015201  \n",
       "2018-10-31 00:00:00-04:00   97427146     0.010754  \n",
       "2018-11-01 00:00:00-04:00   72100016     0.010418  \n",
       "2018-11-02 00:00:00-04:00   93545041    -0.006252  "
      ]
     },
     "execution_count": 297,
     "metadata": {},
     "output_type": "execute_result"
    }
   ],
   "source": [
    "# Configure a Monte Carlo simulation to forecast 10 years cumulative returns\n",
    "# The weights should be split 20% to AGG and 80% to SPY.\n",
    "# Run 500 samples.\n",
    "simulation_10year = MCSimulation(\n",
    "    portfolio_data=simulation_df,\n",
    "    weights = [.20,.80],\n",
    "    num_simulation = 500,\n",
    "    num_trading_days = 252*10)\n",
    "\n",
    "# Review the simulation input data\n",
    "simulation_30year.portfolio_data.head()\n"
   ]
  },
  {
   "cell_type": "code",
   "execution_count": 298,
   "metadata": {},
   "outputs": [
    {
     "name": "stdout",
     "output_type": "stream",
     "text": [
      "Running Monte Carlo simulation number 0.\n",
      "Running Monte Carlo simulation number 10.\n",
      "Running Monte Carlo simulation number 20.\n",
      "Running Monte Carlo simulation number 30.\n",
      "Running Monte Carlo simulation number 40.\n",
      "Running Monte Carlo simulation number 50.\n",
      "Running Monte Carlo simulation number 60.\n",
      "Running Monte Carlo simulation number 70.\n",
      "Running Monte Carlo simulation number 80.\n",
      "Running Monte Carlo simulation number 90.\n",
      "Running Monte Carlo simulation number 100.\n"
     ]
    },
    {
     "name": "stderr",
     "output_type": "stream",
     "text": [
      "C:\\Users\\domto\\Desktop\\Portfolio_Management\\Starter_Code\\MCForecastTools.py:117: PerformanceWarning: DataFrame is highly fragmented.  This is usually the result of calling `frame.insert` many times, which has poor performance.  Consider joining all columns at once using pd.concat(axis=1) instead.  To get a de-fragmented frame, use `newframe = frame.copy()`\n",
      "  portfolio_cumulative_returns[n] = (1 + sim_df.fillna(0)).cumprod()\n"
     ]
    },
    {
     "name": "stdout",
     "output_type": "stream",
     "text": [
      "Running Monte Carlo simulation number 110.\n",
      "Running Monte Carlo simulation number 120.\n",
      "Running Monte Carlo simulation number 130.\n",
      "Running Monte Carlo simulation number 140.\n",
      "Running Monte Carlo simulation number 150.\n",
      "Running Monte Carlo simulation number 160.\n",
      "Running Monte Carlo simulation number 170.\n",
      "Running Monte Carlo simulation number 180.\n",
      "Running Monte Carlo simulation number 190.\n",
      "Running Monte Carlo simulation number 200.\n",
      "Running Monte Carlo simulation number 210.\n",
      "Running Monte Carlo simulation number 220.\n",
      "Running Monte Carlo simulation number 230.\n",
      "Running Monte Carlo simulation number 240.\n",
      "Running Monte Carlo simulation number 250.\n",
      "Running Monte Carlo simulation number 260.\n",
      "Running Monte Carlo simulation number 270.\n",
      "Running Monte Carlo simulation number 280.\n",
      "Running Monte Carlo simulation number 290.\n",
      "Running Monte Carlo simulation number 300.\n",
      "Running Monte Carlo simulation number 310.\n",
      "Running Monte Carlo simulation number 320.\n",
      "Running Monte Carlo simulation number 330.\n",
      "Running Monte Carlo simulation number 340.\n",
      "Running Monte Carlo simulation number 350.\n",
      "Running Monte Carlo simulation number 360.\n",
      "Running Monte Carlo simulation number 370.\n",
      "Running Monte Carlo simulation number 380.\n",
      "Running Monte Carlo simulation number 390.\n",
      "Running Monte Carlo simulation number 400.\n",
      "Running Monte Carlo simulation number 410.\n",
      "Running Monte Carlo simulation number 420.\n",
      "Running Monte Carlo simulation number 430.\n",
      "Running Monte Carlo simulation number 440.\n",
      "Running Monte Carlo simulation number 450.\n",
      "Running Monte Carlo simulation number 460.\n",
      "Running Monte Carlo simulation number 470.\n",
      "Running Monte Carlo simulation number 480.\n",
      "Running Monte Carlo simulation number 490.\n"
     ]
    },
    {
     "data": {
      "text/html": [
       "<div>\n",
       "<style scoped>\n",
       "    .dataframe tbody tr th:only-of-type {\n",
       "        vertical-align: middle;\n",
       "    }\n",
       "\n",
       "    .dataframe tbody tr th {\n",
       "        vertical-align: top;\n",
       "    }\n",
       "\n",
       "    .dataframe thead th {\n",
       "        text-align: right;\n",
       "    }\n",
       "</style>\n",
       "<table border=\"1\" class=\"dataframe\">\n",
       "  <thead>\n",
       "    <tr style=\"text-align: right;\">\n",
       "      <th></th>\n",
       "      <th>0</th>\n",
       "      <th>1</th>\n",
       "      <th>2</th>\n",
       "      <th>3</th>\n",
       "      <th>4</th>\n",
       "      <th>5</th>\n",
       "      <th>6</th>\n",
       "      <th>7</th>\n",
       "      <th>8</th>\n",
       "      <th>9</th>\n",
       "      <th>...</th>\n",
       "      <th>490</th>\n",
       "      <th>491</th>\n",
       "      <th>492</th>\n",
       "      <th>493</th>\n",
       "      <th>494</th>\n",
       "      <th>495</th>\n",
       "      <th>496</th>\n",
       "      <th>497</th>\n",
       "      <th>498</th>\n",
       "      <th>499</th>\n",
       "    </tr>\n",
       "  </thead>\n",
       "  <tbody>\n",
       "    <tr>\n",
       "      <th>0</th>\n",
       "      <td>1.000000</td>\n",
       "      <td>1.000000</td>\n",
       "      <td>1.000000</td>\n",
       "      <td>1.000000</td>\n",
       "      <td>1.000000</td>\n",
       "      <td>1.000000</td>\n",
       "      <td>1.000000</td>\n",
       "      <td>1.000000</td>\n",
       "      <td>1.000000</td>\n",
       "      <td>1.000000</td>\n",
       "      <td>...</td>\n",
       "      <td>1.000000</td>\n",
       "      <td>1.000000</td>\n",
       "      <td>1.000000</td>\n",
       "      <td>1.000000</td>\n",
       "      <td>1.000000</td>\n",
       "      <td>1.000000</td>\n",
       "      <td>1.000000</td>\n",
       "      <td>1.000000</td>\n",
       "      <td>1.000000</td>\n",
       "      <td>1.000000</td>\n",
       "    </tr>\n",
       "    <tr>\n",
       "      <th>1</th>\n",
       "      <td>0.996729</td>\n",
       "      <td>1.005758</td>\n",
       "      <td>1.024983</td>\n",
       "      <td>0.998241</td>\n",
       "      <td>0.995832</td>\n",
       "      <td>1.009199</td>\n",
       "      <td>1.007493</td>\n",
       "      <td>0.998083</td>\n",
       "      <td>1.000149</td>\n",
       "      <td>1.001060</td>\n",
       "      <td>...</td>\n",
       "      <td>0.988563</td>\n",
       "      <td>1.002424</td>\n",
       "      <td>1.017461</td>\n",
       "      <td>1.008012</td>\n",
       "      <td>1.006765</td>\n",
       "      <td>0.981897</td>\n",
       "      <td>1.001231</td>\n",
       "      <td>0.996930</td>\n",
       "      <td>1.004437</td>\n",
       "      <td>1.027101</td>\n",
       "    </tr>\n",
       "    <tr>\n",
       "      <th>2</th>\n",
       "      <td>0.994387</td>\n",
       "      <td>1.011293</td>\n",
       "      <td>0.998069</td>\n",
       "      <td>0.976732</td>\n",
       "      <td>1.001390</td>\n",
       "      <td>1.021354</td>\n",
       "      <td>1.025441</td>\n",
       "      <td>0.990563</td>\n",
       "      <td>0.997840</td>\n",
       "      <td>0.996081</td>\n",
       "      <td>...</td>\n",
       "      <td>1.004540</td>\n",
       "      <td>1.009620</td>\n",
       "      <td>1.041824</td>\n",
       "      <td>1.010935</td>\n",
       "      <td>1.017222</td>\n",
       "      <td>0.965067</td>\n",
       "      <td>1.011255</td>\n",
       "      <td>0.982890</td>\n",
       "      <td>1.010042</td>\n",
       "      <td>1.035262</td>\n",
       "    </tr>\n",
       "    <tr>\n",
       "      <th>3</th>\n",
       "      <td>1.001645</td>\n",
       "      <td>1.004811</td>\n",
       "      <td>0.981426</td>\n",
       "      <td>0.968621</td>\n",
       "      <td>0.982652</td>\n",
       "      <td>1.008043</td>\n",
       "      <td>1.022979</td>\n",
       "      <td>0.975379</td>\n",
       "      <td>0.999810</td>\n",
       "      <td>1.001900</td>\n",
       "      <td>...</td>\n",
       "      <td>1.005502</td>\n",
       "      <td>1.015956</td>\n",
       "      <td>1.046690</td>\n",
       "      <td>0.991018</td>\n",
       "      <td>1.025455</td>\n",
       "      <td>0.967258</td>\n",
       "      <td>1.000818</td>\n",
       "      <td>0.968396</td>\n",
       "      <td>1.019364</td>\n",
       "      <td>1.048221</td>\n",
       "    </tr>\n",
       "    <tr>\n",
       "      <th>4</th>\n",
       "      <td>0.995016</td>\n",
       "      <td>1.008676</td>\n",
       "      <td>0.986845</td>\n",
       "      <td>0.978975</td>\n",
       "      <td>0.986003</td>\n",
       "      <td>1.017875</td>\n",
       "      <td>1.047784</td>\n",
       "      <td>0.983370</td>\n",
       "      <td>0.998059</td>\n",
       "      <td>1.013169</td>\n",
       "      <td>...</td>\n",
       "      <td>1.002085</td>\n",
       "      <td>1.013926</td>\n",
       "      <td>1.036294</td>\n",
       "      <td>0.994861</td>\n",
       "      <td>1.035437</td>\n",
       "      <td>0.974832</td>\n",
       "      <td>1.006435</td>\n",
       "      <td>0.946000</td>\n",
       "      <td>1.018908</td>\n",
       "      <td>1.059333</td>\n",
       "    </tr>\n",
       "    <tr>\n",
       "      <th>...</th>\n",
       "      <td>...</td>\n",
       "      <td>...</td>\n",
       "      <td>...</td>\n",
       "      <td>...</td>\n",
       "      <td>...</td>\n",
       "      <td>...</td>\n",
       "      <td>...</td>\n",
       "      <td>...</td>\n",
       "      <td>...</td>\n",
       "      <td>...</td>\n",
       "      <td>...</td>\n",
       "      <td>...</td>\n",
       "      <td>...</td>\n",
       "      <td>...</td>\n",
       "      <td>...</td>\n",
       "      <td>...</td>\n",
       "      <td>...</td>\n",
       "      <td>...</td>\n",
       "      <td>...</td>\n",
       "      <td>...</td>\n",
       "      <td>...</td>\n",
       "    </tr>\n",
       "    <tr>\n",
       "      <th>2516</th>\n",
       "      <td>8.276549</td>\n",
       "      <td>6.495187</td>\n",
       "      <td>6.720032</td>\n",
       "      <td>5.090413</td>\n",
       "      <td>4.379668</td>\n",
       "      <td>31.178782</td>\n",
       "      <td>3.278351</td>\n",
       "      <td>6.937955</td>\n",
       "      <td>4.565811</td>\n",
       "      <td>5.690002</td>\n",
       "      <td>...</td>\n",
       "      <td>5.286144</td>\n",
       "      <td>9.925982</td>\n",
       "      <td>19.709625</td>\n",
       "      <td>1.721867</td>\n",
       "      <td>5.538938</td>\n",
       "      <td>7.007109</td>\n",
       "      <td>4.181603</td>\n",
       "      <td>4.374601</td>\n",
       "      <td>2.675458</td>\n",
       "      <td>5.974144</td>\n",
       "    </tr>\n",
       "    <tr>\n",
       "      <th>2517</th>\n",
       "      <td>8.386745</td>\n",
       "      <td>6.420019</td>\n",
       "      <td>6.901822</td>\n",
       "      <td>5.023627</td>\n",
       "      <td>4.441900</td>\n",
       "      <td>31.237038</td>\n",
       "      <td>3.248841</td>\n",
       "      <td>6.998440</td>\n",
       "      <td>4.605029</td>\n",
       "      <td>5.568755</td>\n",
       "      <td>...</td>\n",
       "      <td>5.292877</td>\n",
       "      <td>9.904220</td>\n",
       "      <td>19.595936</td>\n",
       "      <td>1.709167</td>\n",
       "      <td>5.591642</td>\n",
       "      <td>6.930546</td>\n",
       "      <td>4.193879</td>\n",
       "      <td>4.437871</td>\n",
       "      <td>2.700843</td>\n",
       "      <td>6.014104</td>\n",
       "    </tr>\n",
       "    <tr>\n",
       "      <th>2518</th>\n",
       "      <td>8.396031</td>\n",
       "      <td>6.452245</td>\n",
       "      <td>6.919804</td>\n",
       "      <td>5.011955</td>\n",
       "      <td>4.469658</td>\n",
       "      <td>31.024887</td>\n",
       "      <td>3.293696</td>\n",
       "      <td>6.917498</td>\n",
       "      <td>4.537195</td>\n",
       "      <td>5.524568</td>\n",
       "      <td>...</td>\n",
       "      <td>5.302528</td>\n",
       "      <td>9.843162</td>\n",
       "      <td>19.605346</td>\n",
       "      <td>1.671642</td>\n",
       "      <td>5.554048</td>\n",
       "      <td>6.942290</td>\n",
       "      <td>4.160112</td>\n",
       "      <td>4.476960</td>\n",
       "      <td>2.671154</td>\n",
       "      <td>6.154798</td>\n",
       "    </tr>\n",
       "    <tr>\n",
       "      <th>2519</th>\n",
       "      <td>8.453748</td>\n",
       "      <td>6.487055</td>\n",
       "      <td>6.770976</td>\n",
       "      <td>4.902297</td>\n",
       "      <td>4.419963</td>\n",
       "      <td>30.994772</td>\n",
       "      <td>3.317787</td>\n",
       "      <td>6.895300</td>\n",
       "      <td>4.488489</td>\n",
       "      <td>5.507306</td>\n",
       "      <td>...</td>\n",
       "      <td>5.246863</td>\n",
       "      <td>9.848091</td>\n",
       "      <td>19.628273</td>\n",
       "      <td>1.686775</td>\n",
       "      <td>5.591611</td>\n",
       "      <td>6.925351</td>\n",
       "      <td>4.133584</td>\n",
       "      <td>4.424758</td>\n",
       "      <td>2.653372</td>\n",
       "      <td>6.213819</td>\n",
       "    </tr>\n",
       "    <tr>\n",
       "      <th>2520</th>\n",
       "      <td>8.680686</td>\n",
       "      <td>6.437561</td>\n",
       "      <td>6.767624</td>\n",
       "      <td>4.974262</td>\n",
       "      <td>4.397458</td>\n",
       "      <td>30.717435</td>\n",
       "      <td>3.301345</td>\n",
       "      <td>6.852257</td>\n",
       "      <td>4.419640</td>\n",
       "      <td>5.482117</td>\n",
       "      <td>...</td>\n",
       "      <td>5.231600</td>\n",
       "      <td>9.730433</td>\n",
       "      <td>19.775733</td>\n",
       "      <td>1.674844</td>\n",
       "      <td>5.511322</td>\n",
       "      <td>6.979371</td>\n",
       "      <td>4.224800</td>\n",
       "      <td>4.500384</td>\n",
       "      <td>2.669090</td>\n",
       "      <td>6.153554</td>\n",
       "    </tr>\n",
       "  </tbody>\n",
       "</table>\n",
       "<p>2521 rows × 500 columns</p>\n",
       "</div>"
      ],
      "text/plain": [
       "           0         1         2         3         4          5         6    \\\n",
       "0     1.000000  1.000000  1.000000  1.000000  1.000000   1.000000  1.000000   \n",
       "1     0.996729  1.005758  1.024983  0.998241  0.995832   1.009199  1.007493   \n",
       "2     0.994387  1.011293  0.998069  0.976732  1.001390   1.021354  1.025441   \n",
       "3     1.001645  1.004811  0.981426  0.968621  0.982652   1.008043  1.022979   \n",
       "4     0.995016  1.008676  0.986845  0.978975  0.986003   1.017875  1.047784   \n",
       "...        ...       ...       ...       ...       ...        ...       ...   \n",
       "2516  8.276549  6.495187  6.720032  5.090413  4.379668  31.178782  3.278351   \n",
       "2517  8.386745  6.420019  6.901822  5.023627  4.441900  31.237038  3.248841   \n",
       "2518  8.396031  6.452245  6.919804  5.011955  4.469658  31.024887  3.293696   \n",
       "2519  8.453748  6.487055  6.770976  4.902297  4.419963  30.994772  3.317787   \n",
       "2520  8.680686  6.437561  6.767624  4.974262  4.397458  30.717435  3.301345   \n",
       "\n",
       "           7         8         9    ...       490       491        492  \\\n",
       "0     1.000000  1.000000  1.000000  ...  1.000000  1.000000   1.000000   \n",
       "1     0.998083  1.000149  1.001060  ...  0.988563  1.002424   1.017461   \n",
       "2     0.990563  0.997840  0.996081  ...  1.004540  1.009620   1.041824   \n",
       "3     0.975379  0.999810  1.001900  ...  1.005502  1.015956   1.046690   \n",
       "4     0.983370  0.998059  1.013169  ...  1.002085  1.013926   1.036294   \n",
       "...        ...       ...       ...  ...       ...       ...        ...   \n",
       "2516  6.937955  4.565811  5.690002  ...  5.286144  9.925982  19.709625   \n",
       "2517  6.998440  4.605029  5.568755  ...  5.292877  9.904220  19.595936   \n",
       "2518  6.917498  4.537195  5.524568  ...  5.302528  9.843162  19.605346   \n",
       "2519  6.895300  4.488489  5.507306  ...  5.246863  9.848091  19.628273   \n",
       "2520  6.852257  4.419640  5.482117  ...  5.231600  9.730433  19.775733   \n",
       "\n",
       "           493       494       495       496       497       498       499  \n",
       "0     1.000000  1.000000  1.000000  1.000000  1.000000  1.000000  1.000000  \n",
       "1     1.008012  1.006765  0.981897  1.001231  0.996930  1.004437  1.027101  \n",
       "2     1.010935  1.017222  0.965067  1.011255  0.982890  1.010042  1.035262  \n",
       "3     0.991018  1.025455  0.967258  1.000818  0.968396  1.019364  1.048221  \n",
       "4     0.994861  1.035437  0.974832  1.006435  0.946000  1.018908  1.059333  \n",
       "...        ...       ...       ...       ...       ...       ...       ...  \n",
       "2516  1.721867  5.538938  7.007109  4.181603  4.374601  2.675458  5.974144  \n",
       "2517  1.709167  5.591642  6.930546  4.193879  4.437871  2.700843  6.014104  \n",
       "2518  1.671642  5.554048  6.942290  4.160112  4.476960  2.671154  6.154798  \n",
       "2519  1.686775  5.591611  6.925351  4.133584  4.424758  2.653372  6.213819  \n",
       "2520  1.674844  5.511322  6.979371  4.224800  4.500384  2.669090  6.153554  \n",
       "\n",
       "[2521 rows x 500 columns]"
      ]
     },
     "execution_count": 298,
     "metadata": {},
     "output_type": "execute_result"
    }
   ],
   "source": [
    "# Run the Monte Carlo simulation to forecast 10 years cumulative returns\n",
    "simulation_10year.calc_cumulative_return()\n"
   ]
  },
  {
   "cell_type": "code",
   "execution_count": 299,
   "metadata": {},
   "outputs": [
    {
     "data": {
      "image/png": "[encoded data removed]",
      "text/plain": [
       "<Figure size 432x288 with 1 Axes>"
      ]
     },
     "metadata": {
      "needs_background": "light"
     },
     "output_type": "display_data"
    }
   ],
   "source": [
    "# Visualize the 10-year Monte Carlo simulation by creating an\n",
    "# overlay line plot\n",
    "simulation_10year_plot = simulation_10year.plot_simulation()\n"
   ]
  },
  {
   "cell_type": "code",
   "execution_count": 300,
   "metadata": {},
   "outputs": [
    {
     "data": {
      "image/png": "[encoded data removed]",
      "text/plain": [
       "<Figure size 432x288 with 1 Axes>"
      ]
     },
     "metadata": {
      "needs_background": "light"
     },
     "output_type": "display_data"
    }
   ],
   "source": [
    "# Visualize the probability distribution of the 10-year Monte Carlo simulation \n",
    "# by plotting a histogram\n",
    "simulation_10year_distribution = simulation_10year.plot_distribution()\n"
   ]
  },
  {
   "cell_type": "code",
   "execution_count": 301,
   "metadata": {},
   "outputs": [
    {
     "name": "stdout",
     "output_type": "stream",
     "text": [
      "count           500.000000\n",
      "mean              5.726961\n",
      "std               3.667123\n",
      "min               0.651735\n",
      "25%               3.222874\n",
      "50%               5.074100\n",
      "75%               6.983494\n",
      "max              30.717435\n",
      "95% CI Lower      1.658556\n",
      "95% CI Upper     14.911824\n",
      "Name: 2520, dtype: float64\n"
     ]
    }
   ],
   "source": [
    "# Generate summary statistics from the 10-year Monte Carlo simulation results\n",
    "# Save the results as a variable\n",
    "simulation_10year_summary = simulation_10year.summarize_cumulative_return()\n",
    "\n",
    "\n",
    "# Review the 10-year Monte Carlo summary statistic\n",
    "print(simulation_10year_summary)"
   ]
  },
  {
   "cell_type": "markdown",
   "metadata": {},
   "source": [
    "### Answer the following questions:"
   ]
  },
  {
   "cell_type": "markdown",
   "metadata": {},
   "source": [
    "#### Question: Using the current value of only the stock and bond portion of the member's portfolio and the summary statistics that you generated from the new Monte Carlo simulation, what are the lower and upper bounds for the expected value of the portfolio (with the new weights) with a 95% confidence interval?"
   ]
  },
  {
   "cell_type": "code",
   "execution_count": 318,
   "metadata": {},
   "outputs": [
    {
     "name": "stdout",
     "output_type": "stream",
     "text": [
      "The current value of your stocks and bond portfolio is $ 73438.20 \n"
     ]
    }
   ],
   "source": [
    "# Print the current balance of the stock and bond portion of the members portfolio\n",
    "print(f'The current value of your stocks and bond portfolio is ${total_stocks_bonds[0]: .2f} ')\n"
   ]
  },
  {
   "cell_type": "code",
   "execution_count": 319,
   "metadata": {},
   "outputs": [
    {
     "name": "stdout",
     "output_type": "stream",
     "text": [
      "There is a 95% chance that your current value of $ 73438.20 in your portfolio over the next 30 years will end within the range of $ 121801.04 and $ 1095094.51.\n"
     ]
    }
   ],
   "source": [
    "# Use the lower and upper `95%` confidence intervals to calculate the range of the possible outcomes for the current stock/bond portfolio\n",
    "ci_lower_ten_cumulative_return = simulation_10year_summary[8] * 73438\n",
    "ci_upper_ten_cumulative_return =simulation_10year_summary[9] * 73438\n",
    "\n",
    "# Print the result of your calculations\n",
    "print(f'There is a 95% chance that your current value of ${total_stocks_bonds[0]: .2f} in your portfolio'\n",
    "      f' over the next 30 years will end within the range of'\n",
    "      f' ${ci_lower_ten_cumulative_return: .2f} and ${ci_upper_ten_cumulative_return: .2f}.')\n"
   ]
  },
  {
   "cell_type": "markdown",
   "metadata": {},
   "source": [
    "#### Question: Will weighting the portfolio more heavily to stocks allow the credit union members to retire after only 10 years?"
   ]
  },
  {
   "cell_type": "raw",
   "metadata": {},
   "source": [
    "**Answer** No, due to the high volatility and low number of years in the Stock Market there is a greater risk associated to having a heavier wieghted portfolio in stocks. The 30 year portfolio showed a probablity of a greater return of 8 - 16 times more. "
   ]
  },
  {
   "cell_type": "code",
   "execution_count": null,
   "metadata": {},
   "outputs": [],
   "source": []
  }
 ],
 "metadata": {
  "kernelspec": {
   "display_name": "Python 3 (ipykernel)",
   "language": "python",
   "name": "python3"
  },
  "language_info": {
   "codemirror_mode": {
    "name": "ipython",
    "version": 3
   },
   "file_extension": ".py",
   "mimetype": "text/x-python",
   "name": "python",
   "nbconvert_exporter": "python",
   "pygments_lexer": "ipython3",
   "version": "3.7.10"
  }
 },
 "nbformat": 4,
 "nbformat_minor": 4
}
